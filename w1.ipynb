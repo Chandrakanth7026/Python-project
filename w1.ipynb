{
 "cells": [
  {
   "cell_type": "code",
   "execution_count": 6,
   "metadata": {},
   "outputs": [
    {
     "data": {
      "text/plain": [
       "65536"
      ]
     },
     "execution_count": 6,
     "metadata": {},
     "output_type": "execute_result"
    }
   ],
   "source": [
    "2**16"
   ]
  },
  {
   "cell_type": "code",
   "execution_count": 5,
   "metadata": {
    "scrolled": false
   },
   "outputs": [
    {
     "name": "stdout",
     "output_type": "stream",
     "text": [
      "Hello\n",
      "Hello World\n"
     ]
    }
   ],
   "source": [
    "print(\"Hello\")\n",
    "print(\"Hello World\")"
   ]
  },
  {
   "cell_type": "code",
   "execution_count": 7,
   "metadata": {},
   "outputs": [
    {
     "data": {
      "text/plain": [
       "(1+0j)"
      ]
     },
     "execution_count": 7,
     "metadata": {},
     "output_type": "execute_result"
    }
   ],
   "source": [
    "complex(1)"
   ]
  },
  {
   "cell_type": "code",
   "execution_count": 8,
   "metadata": {},
   "outputs": [
    {
     "name": "stdout",
     "output_type": "stream",
     "text": [
      "world's\n"
     ]
    }
   ],
   "source": [
    "str1 = \"world's\"\n",
    "print(str1)"
   ]
  },
  {
   "cell_type": "code",
   "execution_count": 11,
   "metadata": {},
   "outputs": [],
   "source": [
    "a=1"
   ]
  },
  {
   "cell_type": "code",
   "execution_count": 12,
   "metadata": {},
   "outputs": [
    {
     "data": {
      "text/plain": [
       "int"
      ]
     },
     "execution_count": 12,
     "metadata": {},
     "output_type": "execute_result"
    }
   ],
   "source": [
    "type(a)"
   ]
  },
  {
   "cell_type": "code",
   "execution_count": 13,
   "metadata": {},
   "outputs": [
    {
     "data": {
      "text/plain": [
       "str"
      ]
     },
     "execution_count": 13,
     "metadata": {},
     "output_type": "execute_result"
    }
   ],
   "source": [
    "a = \"string\"\n",
    "type(a)"
   ]
  },
  {
   "cell_type": "code",
   "execution_count": 14,
   "metadata": {},
   "outputs": [
    {
     "data": {
      "text/plain": [
       "float"
      ]
     },
     "execution_count": 14,
     "metadata": {},
     "output_type": "execute_result"
    }
   ],
   "source": [
    "a= 2.34\n",
    "type(a)"
   ]
  },
  {
   "cell_type": "code",
   "execution_count": 16,
   "metadata": {},
   "outputs": [
    {
     "data": {
      "text/plain": [
       "bool"
      ]
     },
     "execution_count": 16,
     "metadata": {},
     "output_type": "execute_result"
    }
   ],
   "source": [
    "c= True\n",
    "type(c)"
   ]
  },
  {
   "cell_type": "code",
   "execution_count": 17,
   "metadata": {},
   "outputs": [
    {
     "data": {
      "text/plain": [
       "\"H'i\""
      ]
     },
     "execution_count": 17,
     "metadata": {},
     "output_type": "execute_result"
    }
   ],
   "source": [
    "a =\"H'i\"\n",
    "a"
   ]
  },
  {
   "cell_type": "code",
   "execution_count": 19,
   "metadata": {},
   "outputs": [
    {
     "data": {
      "text/plain": [
       "\"H'I\""
      ]
     },
     "execution_count": 19,
     "metadata": {},
     "output_type": "execute_result"
    }
   ],
   "source": [
    "a.upper()"
   ]
  },
  {
   "cell_type": "code",
   "execution_count": 20,
   "metadata": {},
   "outputs": [
    {
     "data": {
      "text/plain": [
       "\"H'I\""
      ]
     },
     "execution_count": 20,
     "metadata": {},
     "output_type": "execute_result"
    }
   ],
   "source": [
    "a.title()"
   ]
  },
  {
   "cell_type": "code",
   "execution_count": 21,
   "metadata": {},
   "outputs": [
    {
     "data": {
      "text/plain": [
       "'H'"
      ]
     },
     "execution_count": 21,
     "metadata": {},
     "output_type": "execute_result"
    }
   ],
   "source": [
    "a[0]"
   ]
  },
  {
   "cell_type": "code",
   "execution_count": 22,
   "metadata": {},
   "outputs": [
    {
     "data": {
      "text/plain": [
       "\"'\""
      ]
     },
     "execution_count": 22,
     "metadata": {},
     "output_type": "execute_result"
    }
   ],
   "source": [
    "a[1]"
   ]
  },
  {
   "cell_type": "code",
   "execution_count": 23,
   "metadata": {},
   "outputs": [
    {
     "data": {
      "text/plain": [
       "\"H'i\""
      ]
     },
     "execution_count": 23,
     "metadata": {},
     "output_type": "execute_result"
    }
   ],
   "source": [
    "a[0:3]"
   ]
  },
  {
   "cell_type": "code",
   "execution_count": 24,
   "metadata": {},
   "outputs": [
    {
     "data": {
      "text/plain": [
       "'H'"
      ]
     },
     "execution_count": 24,
     "metadata": {},
     "output_type": "execute_result"
    }
   ],
   "source": [
    "a[0:1]"
   ]
  },
  {
   "cell_type": "code",
   "execution_count": 25,
   "metadata": {},
   "outputs": [
    {
     "data": {
      "text/plain": [
       "3"
      ]
     },
     "execution_count": 25,
     "metadata": {},
     "output_type": "execute_result"
    }
   ],
   "source": [
    "len(a)"
   ]
  },
  {
   "cell_type": "code",
   "execution_count": 26,
   "metadata": {},
   "outputs": [
    {
     "data": {
      "text/plain": [
       "0"
      ]
     },
     "execution_count": 26,
     "metadata": {},
     "output_type": "execute_result"
    }
   ],
   "source": [
    "a.count('Hi') #It checks for the patterns in code and display"
   ]
  },
  {
   "cell_type": "code",
   "execution_count": 27,
   "metadata": {},
   "outputs": [
    {
     "data": {
      "text/plain": [
       "1"
      ]
     },
     "execution_count": 27,
     "metadata": {},
     "output_type": "execute_result"
    }
   ],
   "source": [
    "a.count('H')"
   ]
  },
  {
   "cell_type": "code",
   "execution_count": 28,
   "metadata": {},
   "outputs": [
    {
     "data": {
      "text/plain": [
       "2"
      ]
     },
     "execution_count": 28,
     "metadata": {},
     "output_type": "execute_result"
    }
   ],
   "source": [
    "a= \"Hello world\"\n",
    "a.find('l')"
   ]
  },
  {
   "cell_type": "code",
   "execution_count": 29,
   "metadata": {},
   "outputs": [
    {
     "data": {
      "text/plain": [
       "-1"
      ]
     },
     "execution_count": 29,
     "metadata": {},
     "output_type": "execute_result"
    }
   ],
   "source": [
    "a.find('s')"
   ]
  },
  {
   "cell_type": "code",
   "execution_count": 30,
   "metadata": {},
   "outputs": [
    {
     "data": {
      "text/plain": [
       "3"
      ]
     },
     "execution_count": 30,
     "metadata": {},
     "output_type": "execute_result"
    }
   ],
   "source": [
    "a.count('l')"
   ]
  },
  {
   "cell_type": "code",
   "execution_count": 31,
   "metadata": {},
   "outputs": [
    {
     "data": {
      "text/plain": [
       "list"
      ]
     },
     "execution_count": 31,
     "metadata": {},
     "output_type": "execute_result"
    }
   ],
   "source": [
    "a = [1,2,3,4,5,6, \"hello\"]\n",
    "type(a)"
   ]
  },
  {
   "cell_type": "code",
   "execution_count": 32,
   "metadata": {},
   "outputs": [
    {
     "data": {
      "text/plain": [
       "str"
      ]
     },
     "execution_count": 32,
     "metadata": {},
     "output_type": "execute_result"
    }
   ],
   "source": [
    "type(a[6])"
   ]
  },
  {
   "cell_type": "code",
   "execution_count": 33,
   "metadata": {},
   "outputs": [
    {
     "data": {
      "text/plain": [
       "[1, 2, 3, 4]"
      ]
     },
     "execution_count": 33,
     "metadata": {},
     "output_type": "execute_result"
    }
   ],
   "source": [
    "a[0:4] #dislpay the four index values"
   ]
  },
  {
   "cell_type": "code",
   "execution_count": 34,
   "metadata": {},
   "outputs": [
    {
     "data": {
      "text/plain": [
       "[4, 5, 6, 'hello']"
      ]
     },
     "execution_count": 34,
     "metadata": {},
     "output_type": "execute_result"
    }
   ],
   "source": [
    "a[3:] #If we dont mention it will display till last index"
   ]
  },
  {
   "cell_type": "code",
   "execution_count": 35,
   "metadata": {},
   "outputs": [
    {
     "data": {
      "text/plain": [
       "[1, 3]"
      ]
     },
     "execution_count": 35,
     "metadata": {},
     "output_type": "execute_result"
    }
   ],
   "source": [
    "a[0:4:2] # we are mentioning to jump by two characters"
   ]
  },
  {
   "cell_type": "code",
   "execution_count": 36,
   "metadata": {},
   "outputs": [
    {
     "data": {
      "text/plain": [
       "[1, 3, 5, 'hello']"
      ]
     },
     "execution_count": 36,
     "metadata": {},
     "output_type": "execute_result"
    }
   ],
   "source": [
    "a[::2]"
   ]
  },
  {
   "cell_type": "code",
   "execution_count": 37,
   "metadata": {},
   "outputs": [
    {
     "data": {
      "text/plain": [
       "['hello', 6, 5, 4, 3, 2, 1]"
      ]
     },
     "execution_count": 37,
     "metadata": {},
     "output_type": "execute_result"
    }
   ],
   "source": [
    "a[::-1] #It will print in reverse order"
   ]
  },
  {
   "cell_type": "code",
   "execution_count": 39,
   "metadata": {},
   "outputs": [
    {
     "data": {
      "text/plain": [
       "'ardnahC'"
      ]
     },
     "execution_count": 39,
     "metadata": {},
     "output_type": "execute_result"
    }
   ],
   "source": [
    "b =\"Chandra\"#prints the string in reverse order.\n",
    "b[::-1]"
   ]
  },
  {
   "cell_type": "code",
   "execution_count": 40,
   "metadata": {},
   "outputs": [
    {
     "data": {
      "text/plain": [
       "[3, 2, 1]"
      ]
     },
     "execution_count": 40,
     "metadata": {},
     "output_type": "execute_result"
    }
   ],
   "source": [
    "a[2::-1]"
   ]
  },
  {
   "cell_type": "code",
   "execution_count": 41,
   "metadata": {},
   "outputs": [
    {
     "ename": "ValueError",
     "evalue": "87 is not in list",
     "output_type": "error",
     "traceback": [
      "\u001b[1;31m---------------------------------------------------------------------------\u001b[0m",
      "\u001b[1;31mValueError\u001b[0m                                Traceback (most recent call last)",
      "\u001b[1;32m<ipython-input-41-b3d3eb64b799>\u001b[0m in \u001b[0;36m<module>\u001b[1;34m()\u001b[0m\n\u001b[1;32m----> 1\u001b[1;33m \u001b[0ma\u001b[0m\u001b[1;33m.\u001b[0m\u001b[0mindex\u001b[0m\u001b[1;33m(\u001b[0m\u001b[1;36m87\u001b[0m\u001b[1;33m)\u001b[0m\u001b[1;33m\u001b[0m\u001b[0m\n\u001b[0m",
      "\u001b[1;31mValueError\u001b[0m: 87 is not in list"
     ]
    }
   ],
   "source": [
    "a.index(87) #non existing value;"
   ]
  },
  {
   "cell_type": "code",
   "execution_count": 42,
   "metadata": {},
   "outputs": [
    {
     "data": {
      "text/plain": [
       "5"
      ]
     },
     "execution_count": 42,
     "metadata": {},
     "output_type": "execute_result"
    }
   ],
   "source": [
    "a.index(6)"
   ]
  },
  {
   "cell_type": "code",
   "execution_count": 53,
   "metadata": {},
   "outputs": [
    {
     "data": {
      "text/plain": [
       "6"
      ]
     },
     "execution_count": 53,
     "metadata": {},
     "output_type": "execute_result"
    }
   ],
   "source": [
    "a.index('hello')"
   ]
  },
  {
   "cell_type": "code",
   "execution_count": 63,
   "metadata": {},
   "outputs": [],
   "source": [
    "s =\"abcd\"\n",
    "e =\"wxyz\"\n"
   ]
  },
  {
   "cell_type": "code",
   "execution_count": 64,
   "metadata": {},
   "outputs": [],
   "source": [
    "user = 'b'"
   ]
  },
  {
   "cell_type": "code",
   "execution_count": 65,
   "metadata": {},
   "outputs": [],
   "source": [
    "user_index = s.find(user)"
   ]
  },
  {
   "cell_type": "code",
   "execution_count": 66,
   "metadata": {},
   "outputs": [
    {
     "data": {
      "text/plain": [
       "1"
      ]
     },
     "execution_count": 66,
     "metadata": {},
     "output_type": "execute_result"
    }
   ],
   "source": [
    "user_index"
   ]
  },
  {
   "cell_type": "code",
   "execution_count": 78,
   "metadata": {},
   "outputs": [
    {
     "name": "stdout",
     "output_type": "stream",
     "text": [
      "we are inside the block\n"
     ]
    }
   ],
   "source": [
    "s='hello'\n",
    "if s==\"hello\":\n",
    "        print('we are inside the block')        \n",
    "else:        \n",
    "        print('we are in else block')\n",
    "        "
   ]
  },
  {
   "cell_type": "code",
   "execution_count": 79,
   "metadata": {},
   "outputs": [
    {
     "name": "stdout",
     "output_type": "stream",
     "text": [
      "h\n",
      "e\n",
      "l\n",
      "l\n",
      "o\n"
     ]
    }
   ],
   "source": [
    "a = \"hello\"\n",
    "for x in a:\n",
    "    print(x)\n",
    "    "
   ]
  },
  {
   "cell_type": "code",
   "execution_count": 80,
   "metadata": {},
   "outputs": [],
   "source": [
    "s = \"abcd\"\n",
    "\n",
    "e = \"xwyz\"\n",
    "\n",
    "user_list = 'ba'"
   ]
  },
  {
   "cell_type": "code",
   "execution_count": 98,
   "metadata": {
    "scrolled": false
   },
   "outputs": [
    {
     "name": "stdout",
     "output_type": "stream",
     "text": [
      "not found\n",
      "not found\n"
     ]
    }
   ],
   "source": [
    "for user in user_list:\n",
    "    user_index = s.find(user)\n",
    "    if user_index not in [0,1]:\n",
    "        print(e[user_index])\n",
    "    else:\n",
    "        print(\"not found\")\n",
    "    "
   ]
  },
  {
   "cell_type": "code",
   "execution_count": 109,
   "metadata": {},
   "outputs": [
    {
     "name": "stdout",
     "output_type": "stream",
     "text": [
      "w\n",
      "x\n"
     ]
    }
   ],
   "source": [
    "for user in user_list:\n",
    "    user_index = s.find(user)\n",
    "    if user_index !=-1:\n",
    "        print(e[user_index])\n",
    "    else:\n",
    "        print(\"not found\")\n"
   ]
  },
  {
   "cell_type": "code",
   "execution_count": 110,
   "metadata": {},
   "outputs": [
    {
     "name": "stdout",
     "output_type": "stream",
     "text": [
      "wx\n"
     ]
    }
   ],
   "source": [
    "str =\"\"\n",
    "for user in user_list:\n",
    "    user_index = s.find(user)\n",
    "    if user_index !=-1:\n",
    "        str = str+e[user_index]\n",
    "    else:\n",
    "        print(\"not found\")\n",
    "print(str)"
   ]
  },
  {
   "cell_type": "code",
   "execution_count": 100,
   "metadata": {},
   "outputs": [
    {
     "data": {
      "text/plain": [
       "'helloworld'"
      ]
     },
     "execution_count": 100,
     "metadata": {},
     "output_type": "execute_result"
    }
   ],
   "source": [
    "\"hello\"+\"world\""
   ]
  },
  {
   "cell_type": "code",
   "execution_count": 113,
   "metadata": {},
   "outputs": [],
   "source": [
    "def my_sum(s1,s2):\n",
    "    print(\"first string\" +s1)\n",
    "    print(\"second string\" +s2)\n",
    "    return s1+s2"
   ]
  },
  {
   "cell_type": "code",
   "execution_count": 117,
   "metadata": {},
   "outputs": [
    {
     "name": "stdout",
     "output_type": "stream",
     "text": [
      "first stringhello\n",
      "second stringworld\n"
     ]
    },
    {
     "data": {
      "text/plain": [
       "'helloworld'"
      ]
     },
     "execution_count": 117,
     "metadata": {},
     "output_type": "execute_result"
    }
   ],
   "source": [
    "my_sum(\"hello\",\"world\")\n"
   ]
  },
  {
   "cell_type": "code",
   "execution_count": 138,
   "metadata": {},
   "outputs": [],
   "source": [
    "def my_sum1(a,b):\n",
    "    return (a+b)\n"
   ]
  },
  {
   "cell_type": "code",
   "execution_count": 136,
   "metadata": {},
   "outputs": [
    {
     "data": {
      "text/plain": [
       "579"
      ]
     },
     "execution_count": 136,
     "metadata": {},
     "output_type": "execute_result"
    }
   ],
   "source": [
    "my_sum1(123,456)"
   ]
  },
  {
   "cell_type": "code",
   "execution_count": 142,
   "metadata": {},
   "outputs": [
    {
     "data": {
      "text/plain": [
       "dict"
      ]
     },
     "execution_count": 142,
     "metadata": {},
     "output_type": "execute_result"
    }
   ],
   "source": [
    "d = {'a':1,'b' :2,'c' : \"hello world\",\"marks\":[1,2,3,4],4: \"hello\"}\n",
    "\n",
    "type(d)"
   ]
  },
  {
   "cell_type": "code",
   "execution_count": 143,
   "metadata": {},
   "outputs": [
    {
     "data": {
      "text/plain": [
       "list"
      ]
     },
     "execution_count": 143,
     "metadata": {},
     "output_type": "execute_result"
    }
   ],
   "source": [
    "type(d[\"marks\"])"
   ]
  },
  {
   "cell_type": "code",
   "execution_count": 145,
   "metadata": {},
   "outputs": [
    {
     "name": "stdout",
     "output_type": "stream",
     "text": [
      "1\n",
      "2\n",
      "hello world\n",
      "[1, 2, 3, 4]\n",
      "hello\n"
     ]
    }
   ],
   "source": [
    "for key in d:\n",
    "    print(d[key])"
   ]
  },
  {
   "cell_type": "code",
   "execution_count": 150,
   "metadata": {},
   "outputs": [],
   "source": [
    "import pandas"
   ]
  },
  {
   "cell_type": "code",
   "execution_count": 151,
   "metadata": {},
   "outputs": [],
   "source": [
    "df=pandas.DataFrame({'a':[1,2], 'b':[3,4]})"
   ]
  },
  {
   "cell_type": "code",
   "execution_count": 152,
   "metadata": {},
   "outputs": [
    {
     "data": {
      "text/plain": [
       "pandas.core.frame.DataFrame"
      ]
     },
     "execution_count": 152,
     "metadata": {},
     "output_type": "execute_result"
    }
   ],
   "source": [
    "type(df)"
   ]
  },
  {
   "cell_type": "code",
   "execution_count": 153,
   "metadata": {},
   "outputs": [
    {
     "data": {
      "text/plain": [
       "2"
      ]
     },
     "execution_count": 153,
     "metadata": {},
     "output_type": "execute_result"
    }
   ],
   "source": [
    "len(df)"
   ]
  },
  {
   "cell_type": "code",
   "execution_count": 154,
   "metadata": {},
   "outputs": [
    {
     "data": {
      "text/html": [
       "<div>\n",
       "<style scoped>\n",
       "    .dataframe tbody tr th:only-of-type {\n",
       "        vertical-align: middle;\n",
       "    }\n",
       "\n",
       "    .dataframe tbody tr th {\n",
       "        vertical-align: top;\n",
       "    }\n",
       "\n",
       "    .dataframe thead th {\n",
       "        text-align: right;\n",
       "    }\n",
       "</style>\n",
       "<table border=\"1\" class=\"dataframe\">\n",
       "  <thead>\n",
       "    <tr style=\"text-align: right;\">\n",
       "      <th></th>\n",
       "      <th>a</th>\n",
       "      <th>b</th>\n",
       "    </tr>\n",
       "  </thead>\n",
       "  <tbody>\n",
       "    <tr>\n",
       "      <th>0</th>\n",
       "      <td>1</td>\n",
       "      <td>3</td>\n",
       "    </tr>\n",
       "    <tr>\n",
       "      <th>1</th>\n",
       "      <td>2</td>\n",
       "      <td>4</td>\n",
       "    </tr>\n",
       "  </tbody>\n",
       "</table>\n",
       "</div>"
      ],
      "text/plain": [
       "   a  b\n",
       "0  1  3\n",
       "1  2  4"
      ]
     },
     "execution_count": 154,
     "metadata": {},
     "output_type": "execute_result"
    }
   ],
   "source": [
    "df"
   ]
  },
  {
   "cell_type": "code",
   "execution_count": 162,
   "metadata": {},
   "outputs": [],
   "source": [
    "import pandas as pd"
   ]
  },
  {
   "cell_type": "code",
   "execution_count": 163,
   "metadata": {},
   "outputs": [],
   "source": [
    "df = pd.read_csv(\"physician_rx.csv\")"
   ]
  },
  {
   "cell_type": "code",
   "execution_count": 164,
   "metadata": {},
   "outputs": [
    {
     "data": {
      "text/html": [
       "<div>\n",
       "<style scoped>\n",
       "    .dataframe tbody tr th:only-of-type {\n",
       "        vertical-align: middle;\n",
       "    }\n",
       "\n",
       "    .dataframe tbody tr th {\n",
       "        vertical-align: top;\n",
       "    }\n",
       "\n",
       "    .dataframe thead th {\n",
       "        text-align: right;\n",
       "    }\n",
       "</style>\n",
       "<table border=\"1\" class=\"dataframe\">\n",
       "  <thead>\n",
       "    <tr style=\"text-align: right;\">\n",
       "      <th></th>\n",
       "      <th>PHYSICIAN</th>\n",
       "      <th>CroMax_RX</th>\n",
       "      <th>GlycoMax_RX</th>\n",
       "      <th>AllergyMax_RX</th>\n",
       "      <th>FevMax_RX</th>\n",
       "      <th>ColdMax_RX</th>\n",
       "    </tr>\n",
       "  </thead>\n",
       "  <tbody>\n",
       "    <tr>\n",
       "      <th>0</th>\n",
       "      <td>AP1912920</td>\n",
       "      <td>0.0</td>\n",
       "      <td>50</td>\n",
       "      <td>510</td>\n",
       "      <td>152</td>\n",
       "      <td>0</td>\n",
       "    </tr>\n",
       "    <tr>\n",
       "      <th>1</th>\n",
       "      <td>AP1350415</td>\n",
       "      <td>2370.0</td>\n",
       "      <td>1320</td>\n",
       "      <td>60</td>\n",
       "      <td>1416</td>\n",
       "      <td>2676</td>\n",
       "    </tr>\n",
       "    <tr>\n",
       "      <th>2</th>\n",
       "      <td>AP0129322</td>\n",
       "      <td>0.0</td>\n",
       "      <td>85</td>\n",
       "      <td>0</td>\n",
       "      <td>0</td>\n",
       "      <td>144</td>\n",
       "    </tr>\n",
       "    <tr>\n",
       "      <th>3</th>\n",
       "      <td>AP0462902</td>\n",
       "      <td>30.0</td>\n",
       "      <td>570</td>\n",
       "      <td>0</td>\n",
       "      <td>128</td>\n",
       "      <td>3900</td>\n",
       "    </tr>\n",
       "    <tr>\n",
       "      <th>4</th>\n",
       "      <td>AP3185026</td>\n",
       "      <td>0.0</td>\n",
       "      <td>40</td>\n",
       "      <td>1080</td>\n",
       "      <td>0</td>\n",
       "      <td>0</td>\n",
       "    </tr>\n",
       "  </tbody>\n",
       "</table>\n",
       "</div>"
      ],
      "text/plain": [
       "   PHYSICIAN  CroMax_RX  GlycoMax_RX  AllergyMax_RX  FevMax_RX  ColdMax_RX\n",
       "0  AP1912920        0.0           50            510        152           0\n",
       "1  AP1350415     2370.0         1320             60       1416        2676\n",
       "2  AP0129322        0.0           85              0          0         144\n",
       "3  AP0462902       30.0          570              0        128        3900\n",
       "4  AP3185026        0.0           40           1080          0           0"
      ]
     },
     "execution_count": 164,
     "metadata": {},
     "output_type": "execute_result"
    }
   ],
   "source": [
    "df.head()"
   ]
  },
  {
   "cell_type": "code",
   "execution_count": 166,
   "metadata": {},
   "outputs": [
    {
     "data": {
      "text/html": [
       "<div>\n",
       "<style scoped>\n",
       "    .dataframe tbody tr th:only-of-type {\n",
       "        vertical-align: middle;\n",
       "    }\n",
       "\n",
       "    .dataframe tbody tr th {\n",
       "        vertical-align: top;\n",
       "    }\n",
       "\n",
       "    .dataframe thead th {\n",
       "        text-align: right;\n",
       "    }\n",
       "</style>\n",
       "<table border=\"1\" class=\"dataframe\">\n",
       "  <thead>\n",
       "    <tr style=\"text-align: right;\">\n",
       "      <th></th>\n",
       "      <th>PHYSICIAN</th>\n",
       "      <th>CroMax_RX</th>\n",
       "      <th>GlycoMax_RX</th>\n",
       "      <th>AllergyMax_RX</th>\n",
       "      <th>FevMax_RX</th>\n",
       "      <th>ColdMax_RX</th>\n",
       "    </tr>\n",
       "  </thead>\n",
       "  <tbody>\n",
       "    <tr>\n",
       "      <th>95</th>\n",
       "      <td>AP1957774</td>\n",
       "      <td>390.0</td>\n",
       "      <td>15</td>\n",
       "      <td>0</td>\n",
       "      <td>16</td>\n",
       "      <td>36</td>\n",
       "    </tr>\n",
       "    <tr>\n",
       "      <th>96</th>\n",
       "      <td>AP1273998</td>\n",
       "      <td>480.0</td>\n",
       "      <td>630</td>\n",
       "      <td>0</td>\n",
       "      <td>0</td>\n",
       "      <td>0</td>\n",
       "    </tr>\n",
       "    <tr>\n",
       "      <th>97</th>\n",
       "      <td>AP1228990</td>\n",
       "      <td>0.0</td>\n",
       "      <td>0</td>\n",
       "      <td>0</td>\n",
       "      <td>0</td>\n",
       "      <td>180</td>\n",
       "    </tr>\n",
       "    <tr>\n",
       "      <th>98</th>\n",
       "      <td>AP1881803</td>\n",
       "      <td>0.0</td>\n",
       "      <td>10</td>\n",
       "      <td>0</td>\n",
       "      <td>0</td>\n",
       "      <td>0</td>\n",
       "    </tr>\n",
       "    <tr>\n",
       "      <th>99</th>\n",
       "      <td>AP4772804</td>\n",
       "      <td>10.0</td>\n",
       "      <td>0</td>\n",
       "      <td>0</td>\n",
       "      <td>0</td>\n",
       "      <td>0</td>\n",
       "    </tr>\n",
       "  </tbody>\n",
       "</table>\n",
       "</div>"
      ],
      "text/plain": [
       "    PHYSICIAN  CroMax_RX  GlycoMax_RX  AllergyMax_RX  FevMax_RX  ColdMax_RX\n",
       "95  AP1957774      390.0           15              0         16          36\n",
       "96  AP1273998      480.0          630              0          0           0\n",
       "97  AP1228990        0.0            0              0          0         180\n",
       "98  AP1881803        0.0           10              0          0           0\n",
       "99  AP4772804       10.0            0              0          0           0"
      ]
     },
     "execution_count": 166,
     "metadata": {},
     "output_type": "execute_result"
    }
   ],
   "source": [
    "df.tail()"
   ]
  },
  {
   "cell_type": "code",
   "execution_count": 168,
   "metadata": {},
   "outputs": [
    {
     "data": {
      "text/plain": [
       "(100, 6)"
      ]
     },
     "execution_count": 168,
     "metadata": {},
     "output_type": "execute_result"
    }
   ],
   "source": [
    "df.shape #count of rows and columns"
   ]
  },
  {
   "cell_type": "code",
   "execution_count": 169,
   "metadata": {},
   "outputs": [
    {
     "data": {
      "text/plain": [
       "Index(['PHYSICIAN', 'CroMax_RX', 'GlycoMax_RX', 'AllergyMax_RX', 'FevMax_RX',\n",
       "       'ColdMax_RX'],\n",
       "      dtype='object')"
      ]
     },
     "execution_count": 169,
     "metadata": {},
     "output_type": "execute_result"
    }
   ],
   "source": [
    "df.columns"
   ]
  },
  {
   "cell_type": "code",
   "execution_count": 172,
   "metadata": {},
   "outputs": [
    {
     "data": {
      "text/plain": [
       "PHYSICIAN         object\n",
       "CroMax_RX        float64\n",
       "GlycoMax_RX        int64\n",
       "AllergyMax_RX      int64\n",
       "FevMax_RX          int64\n",
       "ColdMax_RX         int64\n",
       "dtype: object"
      ]
     },
     "execution_count": 172,
     "metadata": {},
     "output_type": "execute_result"
    }
   ],
   "source": [
    "df.dtypes # to check the defualt functions available type df. tab and dtypes to check datatypes before working on file"
   ]
  },
  {
   "cell_type": "code",
   "execution_count": 175,
   "metadata": {},
   "outputs": [
    {
     "data": {
      "text/html": [
       "<div>\n",
       "<style scoped>\n",
       "    .dataframe tbody tr th:only-of-type {\n",
       "        vertical-align: middle;\n",
       "    }\n",
       "\n",
       "    .dataframe tbody tr th {\n",
       "        vertical-align: top;\n",
       "    }\n",
       "\n",
       "    .dataframe thead th {\n",
       "        text-align: right;\n",
       "    }\n",
       "</style>\n",
       "<table border=\"1\" class=\"dataframe\">\n",
       "  <thead>\n",
       "    <tr style=\"text-align: right;\">\n",
       "      <th></th>\n",
       "      <th>PHYSICIAN</th>\n",
       "      <th>AllergyMax_RX</th>\n",
       "    </tr>\n",
       "  </thead>\n",
       "  <tbody>\n",
       "    <tr>\n",
       "      <th>0</th>\n",
       "      <td>AP1912920</td>\n",
       "      <td>510</td>\n",
       "    </tr>\n",
       "    <tr>\n",
       "      <th>1</th>\n",
       "      <td>AP1350415</td>\n",
       "      <td>60</td>\n",
       "    </tr>\n",
       "    <tr>\n",
       "      <th>2</th>\n",
       "      <td>AP0129322</td>\n",
       "      <td>0</td>\n",
       "    </tr>\n",
       "    <tr>\n",
       "      <th>3</th>\n",
       "      <td>AP0462902</td>\n",
       "      <td>0</td>\n",
       "    </tr>\n",
       "  </tbody>\n",
       "</table>\n",
       "</div>"
      ],
      "text/plain": [
       "   PHYSICIAN  AllergyMax_RX\n",
       "0  AP1912920            510\n",
       "1  AP1350415             60\n",
       "2  AP0129322              0\n",
       "3  AP0462902              0"
      ]
     },
     "execution_count": 175,
     "metadata": {},
     "output_type": "execute_result"
    }
   ],
   "source": [
    "df[[\"PHYSICIAN\",\"AllergyMax_RX\"]] [0:4]#for one column string define physician and for two or more  define as a list with 2 parenthesis"
   ]
  },
  {
   "cell_type": "code",
   "execution_count": 178,
   "metadata": {},
   "outputs": [
    {
     "data": {
      "text/html": [
       "<div>\n",
       "<style scoped>\n",
       "    .dataframe tbody tr th:only-of-type {\n",
       "        vertical-align: middle;\n",
       "    }\n",
       "\n",
       "    .dataframe tbody tr th {\n",
       "        vertical-align: top;\n",
       "    }\n",
       "\n",
       "    .dataframe thead th {\n",
       "        text-align: right;\n",
       "    }\n",
       "</style>\n",
       "<table border=\"1\" class=\"dataframe\">\n",
       "  <thead>\n",
       "    <tr style=\"text-align: right;\">\n",
       "      <th></th>\n",
       "      <th>PHYSICIAN</th>\n",
       "      <th>AllergyMax_RX</th>\n",
       "    </tr>\n",
       "  </thead>\n",
       "  <tbody>\n",
       "    <tr>\n",
       "      <th>0</th>\n",
       "      <td>AP1912920</td>\n",
       "      <td>510</td>\n",
       "    </tr>\n",
       "    <tr>\n",
       "      <th>1</th>\n",
       "      <td>AP1350415</td>\n",
       "      <td>60</td>\n",
       "    </tr>\n",
       "    <tr>\n",
       "      <th>2</th>\n",
       "      <td>AP0129322</td>\n",
       "      <td>0</td>\n",
       "    </tr>\n",
       "    <tr>\n",
       "      <th>3</th>\n",
       "      <td>AP0462902</td>\n",
       "      <td>0</td>\n",
       "    </tr>\n",
       "    <tr>\n",
       "      <th>4</th>\n",
       "      <td>AP3185026</td>\n",
       "      <td>1080</td>\n",
       "    </tr>\n",
       "  </tbody>\n",
       "</table>\n",
       "</div>"
      ],
      "text/plain": [
       "   PHYSICIAN  AllergyMax_RX\n",
       "0  AP1912920            510\n",
       "1  AP1350415             60\n",
       "2  AP0129322              0\n",
       "3  AP0462902              0\n",
       "4  AP3185026           1080"
      ]
     },
     "execution_count": 178,
     "metadata": {},
     "output_type": "execute_result"
    }
   ],
   "source": [
    "df.loc[0:4, [\"PHYSICIAN\",\"AllergyMax_RX\"]] #we use labelnames"
   ]
  },
  {
   "cell_type": "code",
   "execution_count": 179,
   "metadata": {},
   "outputs": [
    {
     "data": {
      "text/html": [
       "<div>\n",
       "<style scoped>\n",
       "    .dataframe tbody tr th:only-of-type {\n",
       "        vertical-align: middle;\n",
       "    }\n",
       "\n",
       "    .dataframe tbody tr th {\n",
       "        vertical-align: top;\n",
       "    }\n",
       "\n",
       "    .dataframe thead th {\n",
       "        text-align: right;\n",
       "    }\n",
       "</style>\n",
       "<table border=\"1\" class=\"dataframe\">\n",
       "  <thead>\n",
       "    <tr style=\"text-align: right;\">\n",
       "      <th></th>\n",
       "      <th>PHYSICIAN</th>\n",
       "      <th>AllergyMax_RX</th>\n",
       "    </tr>\n",
       "  </thead>\n",
       "  <tbody>\n",
       "    <tr>\n",
       "      <th>0</th>\n",
       "      <td>AP1912920</td>\n",
       "      <td>510</td>\n",
       "    </tr>\n",
       "    <tr>\n",
       "      <th>1</th>\n",
       "      <td>AP1350415</td>\n",
       "      <td>60</td>\n",
       "    </tr>\n",
       "    <tr>\n",
       "      <th>2</th>\n",
       "      <td>AP0129322</td>\n",
       "      <td>0</td>\n",
       "    </tr>\n",
       "    <tr>\n",
       "      <th>3</th>\n",
       "      <td>AP0462902</td>\n",
       "      <td>0</td>\n",
       "    </tr>\n",
       "  </tbody>\n",
       "</table>\n",
       "</div>"
      ],
      "text/plain": [
       "   PHYSICIAN  AllergyMax_RX\n",
       "0  AP1912920            510\n",
       "1  AP1350415             60\n",
       "2  AP0129322              0\n",
       "3  AP0462902              0"
      ]
     },
     "execution_count": 179,
     "metadata": {},
     "output_type": "execute_result"
    }
   ],
   "source": [
    "df.iloc[0:4 , [0,3]] #we are dealing with the index"
   ]
  },
  {
   "cell_type": "code",
   "execution_count": 181,
   "metadata": {},
   "outputs": [
    {
     "data": {
      "text/html": [
       "<div>\n",
       "<style scoped>\n",
       "    .dataframe tbody tr th:only-of-type {\n",
       "        vertical-align: middle;\n",
       "    }\n",
       "\n",
       "    .dataframe tbody tr th {\n",
       "        vertical-align: top;\n",
       "    }\n",
       "\n",
       "    .dataframe thead th {\n",
       "        text-align: right;\n",
       "    }\n",
       "</style>\n",
       "<table border=\"1\" class=\"dataframe\">\n",
       "  <thead>\n",
       "    <tr style=\"text-align: right;\">\n",
       "      <th></th>\n",
       "      <th>PHYSICIAN</th>\n",
       "      <th>CroMax_RX</th>\n",
       "      <th>GlycoMax_RX</th>\n",
       "    </tr>\n",
       "  </thead>\n",
       "  <tbody>\n",
       "    <tr>\n",
       "      <th>0</th>\n",
       "      <td>AP1912920</td>\n",
       "      <td>0.0</td>\n",
       "      <td>50</td>\n",
       "    </tr>\n",
       "    <tr>\n",
       "      <th>1</th>\n",
       "      <td>AP1350415</td>\n",
       "      <td>2370.0</td>\n",
       "      <td>1320</td>\n",
       "    </tr>\n",
       "    <tr>\n",
       "      <th>2</th>\n",
       "      <td>AP0129322</td>\n",
       "      <td>0.0</td>\n",
       "      <td>85</td>\n",
       "    </tr>\n",
       "    <tr>\n",
       "      <th>3</th>\n",
       "      <td>AP0462902</td>\n",
       "      <td>30.0</td>\n",
       "      <td>570</td>\n",
       "    </tr>\n",
       "    <tr>\n",
       "      <th>4</th>\n",
       "      <td>AP3185026</td>\n",
       "      <td>0.0</td>\n",
       "      <td>40</td>\n",
       "    </tr>\n",
       "  </tbody>\n",
       "</table>\n",
       "</div>"
      ],
      "text/plain": [
       "   PHYSICIAN  CroMax_RX  GlycoMax_RX\n",
       "0  AP1912920        0.0           50\n",
       "1  AP1350415     2370.0         1320\n",
       "2  AP0129322        0.0           85\n",
       "3  AP0462902       30.0          570\n",
       "4  AP3185026        0.0           40"
      ]
     },
     "execution_count": 181,
     "metadata": {},
     "output_type": "execute_result"
    }
   ],
   "source": [
    "df.loc[0:4 ,\"PHYSICIAN\":\"GlycoMax_RX\"]"
   ]
  },
  {
   "cell_type": "code",
   "execution_count": 182,
   "metadata": {},
   "outputs": [
    {
     "data": {
      "text/plain": [
       "0     False\n",
       "1      True\n",
       "2     False\n",
       "3     False\n",
       "4     False\n",
       "5      True\n",
       "6     False\n",
       "7      True\n",
       "8     False\n",
       "9     False\n",
       "10     True\n",
       "11     True\n",
       "12    False\n",
       "13     True\n",
       "14     True\n",
       "15    False\n",
       "16     True\n",
       "17    False\n",
       "18    False\n",
       "19    False\n",
       "20    False\n",
       "21     True\n",
       "22     True\n",
       "23     True\n",
       "24    False\n",
       "25    False\n",
       "26     True\n",
       "27    False\n",
       "28    False\n",
       "29     True\n",
       "      ...  \n",
       "70    False\n",
       "71     True\n",
       "72    False\n",
       "73    False\n",
       "74     True\n",
       "75    False\n",
       "76     True\n",
       "77    False\n",
       "78    False\n",
       "79     True\n",
       "80    False\n",
       "81    False\n",
       "82     True\n",
       "83    False\n",
       "84    False\n",
       "85     True\n",
       "86    False\n",
       "87     True\n",
       "88    False\n",
       "89     True\n",
       "90    False\n",
       "91    False\n",
       "92    False\n",
       "93    False\n",
       "94    False\n",
       "95     True\n",
       "96     True\n",
       "97    False\n",
       "98    False\n",
       "99    False\n",
       "Name: CroMax_RX, Length: 100, dtype: bool"
      ]
     },
     "execution_count": 182,
     "metadata": {},
     "output_type": "execute_result"
    }
   ],
   "source": [
    "df[\"CroMax_RX\"]>50 #It checks the column value 50 or not and returns true/false"
   ]
  },
  {
   "cell_type": "code",
   "execution_count": 183,
   "metadata": {},
   "outputs": [],
   "source": [
    "my_df=df[df[\"CroMax_RX\"]>50]"
   ]
  },
  {
   "cell_type": "code",
   "execution_count": 184,
   "metadata": {},
   "outputs": [
    {
     "data": {
      "text/html": [
       "<div>\n",
       "<style scoped>\n",
       "    .dataframe tbody tr th:only-of-type {\n",
       "        vertical-align: middle;\n",
       "    }\n",
       "\n",
       "    .dataframe tbody tr th {\n",
       "        vertical-align: top;\n",
       "    }\n",
       "\n",
       "    .dataframe thead th {\n",
       "        text-align: right;\n",
       "    }\n",
       "</style>\n",
       "<table border=\"1\" class=\"dataframe\">\n",
       "  <thead>\n",
       "    <tr style=\"text-align: right;\">\n",
       "      <th></th>\n",
       "      <th>PHYSICIAN</th>\n",
       "      <th>CroMax_RX</th>\n",
       "      <th>GlycoMax_RX</th>\n",
       "      <th>AllergyMax_RX</th>\n",
       "      <th>FevMax_RX</th>\n",
       "      <th>ColdMax_RX</th>\n",
       "    </tr>\n",
       "  </thead>\n",
       "  <tbody>\n",
       "    <tr>\n",
       "      <th>1</th>\n",
       "      <td>AP1350415</td>\n",
       "      <td>2370.0</td>\n",
       "      <td>1320</td>\n",
       "      <td>60</td>\n",
       "      <td>1416</td>\n",
       "      <td>2676</td>\n",
       "    </tr>\n",
       "    <tr>\n",
       "      <th>5</th>\n",
       "      <td>AP3674571</td>\n",
       "      <td>70.0</td>\n",
       "      <td>40</td>\n",
       "      <td>0</td>\n",
       "      <td>64</td>\n",
       "      <td>0</td>\n",
       "    </tr>\n",
       "    <tr>\n",
       "      <th>7</th>\n",
       "      <td>NaN</td>\n",
       "      <td>150.0</td>\n",
       "      <td>315</td>\n",
       "      <td>270</td>\n",
       "      <td>184</td>\n",
       "      <td>36</td>\n",
       "    </tr>\n",
       "    <tr>\n",
       "      <th>10</th>\n",
       "      <td>AP1934892</td>\n",
       "      <td>640.0</td>\n",
       "      <td>390</td>\n",
       "      <td>0</td>\n",
       "      <td>280</td>\n",
       "      <td>0</td>\n",
       "    </tr>\n",
       "    <tr>\n",
       "      <th>11</th>\n",
       "      <td>AP1595288</td>\n",
       "      <td>160.0</td>\n",
       "      <td>35</td>\n",
       "      <td>45</td>\n",
       "      <td>0</td>\n",
       "      <td>0</td>\n",
       "    </tr>\n",
       "    <tr>\n",
       "      <th>13</th>\n",
       "      <td>AP1365782</td>\n",
       "      <td>400.0</td>\n",
       "      <td>15</td>\n",
       "      <td>255</td>\n",
       "      <td>704</td>\n",
       "      <td>444</td>\n",
       "    </tr>\n",
       "    <tr>\n",
       "      <th>14</th>\n",
       "      <td>NaN</td>\n",
       "      <td>90.0</td>\n",
       "      <td>150</td>\n",
       "      <td>0</td>\n",
       "      <td>0</td>\n",
       "      <td>204</td>\n",
       "    </tr>\n",
       "    <tr>\n",
       "      <th>16</th>\n",
       "      <td>AP0036951</td>\n",
       "      <td>330.0</td>\n",
       "      <td>525</td>\n",
       "      <td>0</td>\n",
       "      <td>0</td>\n",
       "      <td>0</td>\n",
       "    </tr>\n",
       "    <tr>\n",
       "      <th>21</th>\n",
       "      <td>AP1332969</td>\n",
       "      <td>90.0</td>\n",
       "      <td>870</td>\n",
       "      <td>0</td>\n",
       "      <td>88</td>\n",
       "      <td>24</td>\n",
       "    </tr>\n",
       "    <tr>\n",
       "      <th>22</th>\n",
       "      <td>AP2130355</td>\n",
       "      <td>160.0</td>\n",
       "      <td>145</td>\n",
       "      <td>0</td>\n",
       "      <td>0</td>\n",
       "      <td>180</td>\n",
       "    </tr>\n",
       "    <tr>\n",
       "      <th>23</th>\n",
       "      <td>AP0714887</td>\n",
       "      <td>160.0</td>\n",
       "      <td>780</td>\n",
       "      <td>615</td>\n",
       "      <td>16</td>\n",
       "      <td>2964</td>\n",
       "    </tr>\n",
       "    <tr>\n",
       "      <th>26</th>\n",
       "      <td>NaN</td>\n",
       "      <td>150.0</td>\n",
       "      <td>220</td>\n",
       "      <td>510</td>\n",
       "      <td>32</td>\n",
       "      <td>1128</td>\n",
       "    </tr>\n",
       "    <tr>\n",
       "      <th>29</th>\n",
       "      <td>AP0089696</td>\n",
       "      <td>930.0</td>\n",
       "      <td>250</td>\n",
       "      <td>3435</td>\n",
       "      <td>0</td>\n",
       "      <td>396</td>\n",
       "    </tr>\n",
       "    <tr>\n",
       "      <th>31</th>\n",
       "      <td>AP0692473</td>\n",
       "      <td>90.0</td>\n",
       "      <td>215</td>\n",
       "      <td>375</td>\n",
       "      <td>0</td>\n",
       "      <td>348</td>\n",
       "    </tr>\n",
       "    <tr>\n",
       "      <th>40</th>\n",
       "      <td>AP0438309</td>\n",
       "      <td>370.0</td>\n",
       "      <td>85</td>\n",
       "      <td>0</td>\n",
       "      <td>0</td>\n",
       "      <td>780</td>\n",
       "    </tr>\n",
       "    <tr>\n",
       "      <th>42</th>\n",
       "      <td>AP1326350</td>\n",
       "      <td>80.0</td>\n",
       "      <td>250</td>\n",
       "      <td>690</td>\n",
       "      <td>128</td>\n",
       "      <td>48</td>\n",
       "    </tr>\n",
       "    <tr>\n",
       "      <th>53</th>\n",
       "      <td>AP1976314</td>\n",
       "      <td>170.0</td>\n",
       "      <td>495</td>\n",
       "      <td>0</td>\n",
       "      <td>200</td>\n",
       "      <td>24</td>\n",
       "    </tr>\n",
       "    <tr>\n",
       "      <th>55</th>\n",
       "      <td>AP3632706</td>\n",
       "      <td>140.0</td>\n",
       "      <td>380</td>\n",
       "      <td>165</td>\n",
       "      <td>32</td>\n",
       "      <td>0</td>\n",
       "    </tr>\n",
       "    <tr>\n",
       "      <th>56</th>\n",
       "      <td>AP1871832</td>\n",
       "      <td>140.0</td>\n",
       "      <td>345</td>\n",
       "      <td>0</td>\n",
       "      <td>0</td>\n",
       "      <td>36</td>\n",
       "    </tr>\n",
       "    <tr>\n",
       "      <th>57</th>\n",
       "      <td>AP0092627</td>\n",
       "      <td>1360.0</td>\n",
       "      <td>1090</td>\n",
       "      <td>210</td>\n",
       "      <td>24</td>\n",
       "      <td>192</td>\n",
       "    </tr>\n",
       "    <tr>\n",
       "      <th>59</th>\n",
       "      <td>AP1815618</td>\n",
       "      <td>140.0</td>\n",
       "      <td>110</td>\n",
       "      <td>0</td>\n",
       "      <td>24</td>\n",
       "      <td>0</td>\n",
       "    </tr>\n",
       "    <tr>\n",
       "      <th>64</th>\n",
       "      <td>AP0093884</td>\n",
       "      <td>80.0</td>\n",
       "      <td>65</td>\n",
       "      <td>1365</td>\n",
       "      <td>0</td>\n",
       "      <td>0</td>\n",
       "    </tr>\n",
       "    <tr>\n",
       "      <th>67</th>\n",
       "      <td>AP0476079</td>\n",
       "      <td>80.0</td>\n",
       "      <td>70</td>\n",
       "      <td>75</td>\n",
       "      <td>0</td>\n",
       "      <td>0</td>\n",
       "    </tr>\n",
       "    <tr>\n",
       "      <th>68</th>\n",
       "      <td>AP1822470</td>\n",
       "      <td>120.0</td>\n",
       "      <td>330</td>\n",
       "      <td>1200</td>\n",
       "      <td>0</td>\n",
       "      <td>504</td>\n",
       "    </tr>\n",
       "    <tr>\n",
       "      <th>71</th>\n",
       "      <td>AP0118925</td>\n",
       "      <td>160.0</td>\n",
       "      <td>375</td>\n",
       "      <td>0</td>\n",
       "      <td>240</td>\n",
       "      <td>0</td>\n",
       "    </tr>\n",
       "    <tr>\n",
       "      <th>74</th>\n",
       "      <td>AP1869077</td>\n",
       "      <td>1830.0</td>\n",
       "      <td>140</td>\n",
       "      <td>0</td>\n",
       "      <td>488</td>\n",
       "      <td>72</td>\n",
       "    </tr>\n",
       "    <tr>\n",
       "      <th>76</th>\n",
       "      <td>AP1230067</td>\n",
       "      <td>110.0</td>\n",
       "      <td>70</td>\n",
       "      <td>0</td>\n",
       "      <td>0</td>\n",
       "      <td>0</td>\n",
       "    </tr>\n",
       "    <tr>\n",
       "      <th>79</th>\n",
       "      <td>AP1336198</td>\n",
       "      <td>150.0</td>\n",
       "      <td>615</td>\n",
       "      <td>0</td>\n",
       "      <td>0</td>\n",
       "      <td>0</td>\n",
       "    </tr>\n",
       "    <tr>\n",
       "      <th>82</th>\n",
       "      <td>AP1834639</td>\n",
       "      <td>270.0</td>\n",
       "      <td>1240</td>\n",
       "      <td>60</td>\n",
       "      <td>40</td>\n",
       "      <td>60</td>\n",
       "    </tr>\n",
       "    <tr>\n",
       "      <th>85</th>\n",
       "      <td>AP0478796</td>\n",
       "      <td>630.0</td>\n",
       "      <td>240</td>\n",
       "      <td>150</td>\n",
       "      <td>0</td>\n",
       "      <td>96</td>\n",
       "    </tr>\n",
       "    <tr>\n",
       "      <th>87</th>\n",
       "      <td>AP2459335</td>\n",
       "      <td>320.0</td>\n",
       "      <td>320</td>\n",
       "      <td>0</td>\n",
       "      <td>256</td>\n",
       "      <td>12</td>\n",
       "    </tr>\n",
       "    <tr>\n",
       "      <th>89</th>\n",
       "      <td>AP0433841</td>\n",
       "      <td>120.0</td>\n",
       "      <td>65</td>\n",
       "      <td>0</td>\n",
       "      <td>0</td>\n",
       "      <td>0</td>\n",
       "    </tr>\n",
       "    <tr>\n",
       "      <th>95</th>\n",
       "      <td>AP1957774</td>\n",
       "      <td>390.0</td>\n",
       "      <td>15</td>\n",
       "      <td>0</td>\n",
       "      <td>16</td>\n",
       "      <td>36</td>\n",
       "    </tr>\n",
       "    <tr>\n",
       "      <th>96</th>\n",
       "      <td>AP1273998</td>\n",
       "      <td>480.0</td>\n",
       "      <td>630</td>\n",
       "      <td>0</td>\n",
       "      <td>0</td>\n",
       "      <td>0</td>\n",
       "    </tr>\n",
       "  </tbody>\n",
       "</table>\n",
       "</div>"
      ],
      "text/plain": [
       "    PHYSICIAN  CroMax_RX  GlycoMax_RX  AllergyMax_RX  FevMax_RX  ColdMax_RX\n",
       "1   AP1350415     2370.0         1320             60       1416        2676\n",
       "5   AP3674571       70.0           40              0         64           0\n",
       "7         NaN      150.0          315            270        184          36\n",
       "10  AP1934892      640.0          390              0        280           0\n",
       "11  AP1595288      160.0           35             45          0           0\n",
       "13  AP1365782      400.0           15            255        704         444\n",
       "14        NaN       90.0          150              0          0         204\n",
       "16  AP0036951      330.0          525              0          0           0\n",
       "21  AP1332969       90.0          870              0         88          24\n",
       "22  AP2130355      160.0          145              0          0         180\n",
       "23  AP0714887      160.0          780            615         16        2964\n",
       "26        NaN      150.0          220            510         32        1128\n",
       "29  AP0089696      930.0          250           3435          0         396\n",
       "31  AP0692473       90.0          215            375          0         348\n",
       "40  AP0438309      370.0           85              0          0         780\n",
       "42  AP1326350       80.0          250            690        128          48\n",
       "53  AP1976314      170.0          495              0        200          24\n",
       "55  AP3632706      140.0          380            165         32           0\n",
       "56  AP1871832      140.0          345              0          0          36\n",
       "57  AP0092627     1360.0         1090            210         24         192\n",
       "59  AP1815618      140.0          110              0         24           0\n",
       "64  AP0093884       80.0           65           1365          0           0\n",
       "67  AP0476079       80.0           70             75          0           0\n",
       "68  AP1822470      120.0          330           1200          0         504\n",
       "71  AP0118925      160.0          375              0        240           0\n",
       "74  AP1869077     1830.0          140              0        488          72\n",
       "76  AP1230067      110.0           70              0          0           0\n",
       "79  AP1336198      150.0          615              0          0           0\n",
       "82  AP1834639      270.0         1240             60         40          60\n",
       "85  AP0478796      630.0          240            150          0          96\n",
       "87  AP2459335      320.0          320              0        256          12\n",
       "89  AP0433841      120.0           65              0          0           0\n",
       "95  AP1957774      390.0           15              0         16          36\n",
       "96  AP1273998      480.0          630              0          0           0"
      ]
     },
     "execution_count": 184,
     "metadata": {},
     "output_type": "execute_result"
    }
   ],
   "source": [
    "my_df"
   ]
  },
  {
   "cell_type": "code",
   "execution_count": 190,
   "metadata": {},
   "outputs": [
    {
     "data": {
      "text/html": [
       "<div>\n",
       "<style scoped>\n",
       "    .dataframe tbody tr th:only-of-type {\n",
       "        vertical-align: middle;\n",
       "    }\n",
       "\n",
       "    .dataframe tbody tr th {\n",
       "        vertical-align: top;\n",
       "    }\n",
       "\n",
       "    .dataframe thead th {\n",
       "        text-align: right;\n",
       "    }\n",
       "</style>\n",
       "<table border=\"1\" class=\"dataframe\">\n",
       "  <thead>\n",
       "    <tr style=\"text-align: right;\">\n",
       "      <th></th>\n",
       "      <th>PHYSICIAN</th>\n",
       "      <th>CroMax_RX</th>\n",
       "      <th>GlycoMax_RX</th>\n",
       "      <th>AllergyMax_RX</th>\n",
       "      <th>FevMax_RX</th>\n",
       "      <th>ColdMax_RX</th>\n",
       "    </tr>\n",
       "  </thead>\n",
       "  <tbody>\n",
       "    <tr>\n",
       "      <th>1</th>\n",
       "      <td>AP1350415</td>\n",
       "      <td>2370.0</td>\n",
       "      <td>1320</td>\n",
       "      <td>60</td>\n",
       "      <td>1416</td>\n",
       "      <td>2676</td>\n",
       "    </tr>\n",
       "    <tr>\n",
       "      <th>7</th>\n",
       "      <td>NaN</td>\n",
       "      <td>150.0</td>\n",
       "      <td>315</td>\n",
       "      <td>270</td>\n",
       "      <td>184</td>\n",
       "      <td>36</td>\n",
       "    </tr>\n",
       "    <tr>\n",
       "      <th>10</th>\n",
       "      <td>AP1934892</td>\n",
       "      <td>640.0</td>\n",
       "      <td>390</td>\n",
       "      <td>0</td>\n",
       "      <td>280</td>\n",
       "      <td>0</td>\n",
       "    </tr>\n",
       "    <tr>\n",
       "      <th>14</th>\n",
       "      <td>NaN</td>\n",
       "      <td>90.0</td>\n",
       "      <td>150</td>\n",
       "      <td>0</td>\n",
       "      <td>0</td>\n",
       "      <td>204</td>\n",
       "    </tr>\n",
       "    <tr>\n",
       "      <th>16</th>\n",
       "      <td>AP0036951</td>\n",
       "      <td>330.0</td>\n",
       "      <td>525</td>\n",
       "      <td>0</td>\n",
       "      <td>0</td>\n",
       "      <td>0</td>\n",
       "    </tr>\n",
       "    <tr>\n",
       "      <th>21</th>\n",
       "      <td>AP1332969</td>\n",
       "      <td>90.0</td>\n",
       "      <td>870</td>\n",
       "      <td>0</td>\n",
       "      <td>88</td>\n",
       "      <td>24</td>\n",
       "    </tr>\n",
       "    <tr>\n",
       "      <th>22</th>\n",
       "      <td>AP2130355</td>\n",
       "      <td>160.0</td>\n",
       "      <td>145</td>\n",
       "      <td>0</td>\n",
       "      <td>0</td>\n",
       "      <td>180</td>\n",
       "    </tr>\n",
       "    <tr>\n",
       "      <th>23</th>\n",
       "      <td>AP0714887</td>\n",
       "      <td>160.0</td>\n",
       "      <td>780</td>\n",
       "      <td>615</td>\n",
       "      <td>16</td>\n",
       "      <td>2964</td>\n",
       "    </tr>\n",
       "    <tr>\n",
       "      <th>26</th>\n",
       "      <td>NaN</td>\n",
       "      <td>150.0</td>\n",
       "      <td>220</td>\n",
       "      <td>510</td>\n",
       "      <td>32</td>\n",
       "      <td>1128</td>\n",
       "    </tr>\n",
       "    <tr>\n",
       "      <th>29</th>\n",
       "      <td>AP0089696</td>\n",
       "      <td>930.0</td>\n",
       "      <td>250</td>\n",
       "      <td>3435</td>\n",
       "      <td>0</td>\n",
       "      <td>396</td>\n",
       "    </tr>\n",
       "    <tr>\n",
       "      <th>31</th>\n",
       "      <td>AP0692473</td>\n",
       "      <td>90.0</td>\n",
       "      <td>215</td>\n",
       "      <td>375</td>\n",
       "      <td>0</td>\n",
       "      <td>348</td>\n",
       "    </tr>\n",
       "    <tr>\n",
       "      <th>40</th>\n",
       "      <td>AP0438309</td>\n",
       "      <td>370.0</td>\n",
       "      <td>85</td>\n",
       "      <td>0</td>\n",
       "      <td>0</td>\n",
       "      <td>780</td>\n",
       "    </tr>\n",
       "    <tr>\n",
       "      <th>42</th>\n",
       "      <td>AP1326350</td>\n",
       "      <td>80.0</td>\n",
       "      <td>250</td>\n",
       "      <td>690</td>\n",
       "      <td>128</td>\n",
       "      <td>48</td>\n",
       "    </tr>\n",
       "    <tr>\n",
       "      <th>53</th>\n",
       "      <td>AP1976314</td>\n",
       "      <td>170.0</td>\n",
       "      <td>495</td>\n",
       "      <td>0</td>\n",
       "      <td>200</td>\n",
       "      <td>24</td>\n",
       "    </tr>\n",
       "    <tr>\n",
       "      <th>55</th>\n",
       "      <td>AP3632706</td>\n",
       "      <td>140.0</td>\n",
       "      <td>380</td>\n",
       "      <td>165</td>\n",
       "      <td>32</td>\n",
       "      <td>0</td>\n",
       "    </tr>\n",
       "    <tr>\n",
       "      <th>56</th>\n",
       "      <td>AP1871832</td>\n",
       "      <td>140.0</td>\n",
       "      <td>345</td>\n",
       "      <td>0</td>\n",
       "      <td>0</td>\n",
       "      <td>36</td>\n",
       "    </tr>\n",
       "    <tr>\n",
       "      <th>57</th>\n",
       "      <td>AP0092627</td>\n",
       "      <td>1360.0</td>\n",
       "      <td>1090</td>\n",
       "      <td>210</td>\n",
       "      <td>24</td>\n",
       "      <td>192</td>\n",
       "    </tr>\n",
       "    <tr>\n",
       "      <th>59</th>\n",
       "      <td>AP1815618</td>\n",
       "      <td>140.0</td>\n",
       "      <td>110</td>\n",
       "      <td>0</td>\n",
       "      <td>24</td>\n",
       "      <td>0</td>\n",
       "    </tr>\n",
       "    <tr>\n",
       "      <th>64</th>\n",
       "      <td>AP0093884</td>\n",
       "      <td>80.0</td>\n",
       "      <td>65</td>\n",
       "      <td>1365</td>\n",
       "      <td>0</td>\n",
       "      <td>0</td>\n",
       "    </tr>\n",
       "    <tr>\n",
       "      <th>67</th>\n",
       "      <td>AP0476079</td>\n",
       "      <td>80.0</td>\n",
       "      <td>70</td>\n",
       "      <td>75</td>\n",
       "      <td>0</td>\n",
       "      <td>0</td>\n",
       "    </tr>\n",
       "    <tr>\n",
       "      <th>68</th>\n",
       "      <td>AP1822470</td>\n",
       "      <td>120.0</td>\n",
       "      <td>330</td>\n",
       "      <td>1200</td>\n",
       "      <td>0</td>\n",
       "      <td>504</td>\n",
       "    </tr>\n",
       "    <tr>\n",
       "      <th>71</th>\n",
       "      <td>AP0118925</td>\n",
       "      <td>160.0</td>\n",
       "      <td>375</td>\n",
       "      <td>0</td>\n",
       "      <td>240</td>\n",
       "      <td>0</td>\n",
       "    </tr>\n",
       "    <tr>\n",
       "      <th>74</th>\n",
       "      <td>AP1869077</td>\n",
       "      <td>1830.0</td>\n",
       "      <td>140</td>\n",
       "      <td>0</td>\n",
       "      <td>488</td>\n",
       "      <td>72</td>\n",
       "    </tr>\n",
       "    <tr>\n",
       "      <th>76</th>\n",
       "      <td>AP1230067</td>\n",
       "      <td>110.0</td>\n",
       "      <td>70</td>\n",
       "      <td>0</td>\n",
       "      <td>0</td>\n",
       "      <td>0</td>\n",
       "    </tr>\n",
       "    <tr>\n",
       "      <th>79</th>\n",
       "      <td>AP1336198</td>\n",
       "      <td>150.0</td>\n",
       "      <td>615</td>\n",
       "      <td>0</td>\n",
       "      <td>0</td>\n",
       "      <td>0</td>\n",
       "    </tr>\n",
       "    <tr>\n",
       "      <th>82</th>\n",
       "      <td>AP1834639</td>\n",
       "      <td>270.0</td>\n",
       "      <td>1240</td>\n",
       "      <td>60</td>\n",
       "      <td>40</td>\n",
       "      <td>60</td>\n",
       "    </tr>\n",
       "    <tr>\n",
       "      <th>85</th>\n",
       "      <td>AP0478796</td>\n",
       "      <td>630.0</td>\n",
       "      <td>240</td>\n",
       "      <td>150</td>\n",
       "      <td>0</td>\n",
       "      <td>96</td>\n",
       "    </tr>\n",
       "    <tr>\n",
       "      <th>87</th>\n",
       "      <td>AP2459335</td>\n",
       "      <td>320.0</td>\n",
       "      <td>320</td>\n",
       "      <td>0</td>\n",
       "      <td>256</td>\n",
       "      <td>12</td>\n",
       "    </tr>\n",
       "    <tr>\n",
       "      <th>89</th>\n",
       "      <td>AP0433841</td>\n",
       "      <td>120.0</td>\n",
       "      <td>65</td>\n",
       "      <td>0</td>\n",
       "      <td>0</td>\n",
       "      <td>0</td>\n",
       "    </tr>\n",
       "    <tr>\n",
       "      <th>96</th>\n",
       "      <td>AP1273998</td>\n",
       "      <td>480.0</td>\n",
       "      <td>630</td>\n",
       "      <td>0</td>\n",
       "      <td>0</td>\n",
       "      <td>0</td>\n",
       "    </tr>\n",
       "  </tbody>\n",
       "</table>\n",
       "</div>"
      ],
      "text/plain": [
       "    PHYSICIAN  CroMax_RX  GlycoMax_RX  AllergyMax_RX  FevMax_RX  ColdMax_RX\n",
       "1   AP1350415     2370.0         1320             60       1416        2676\n",
       "7         NaN      150.0          315            270        184          36\n",
       "10  AP1934892      640.0          390              0        280           0\n",
       "14        NaN       90.0          150              0          0         204\n",
       "16  AP0036951      330.0          525              0          0           0\n",
       "21  AP1332969       90.0          870              0         88          24\n",
       "22  AP2130355      160.0          145              0          0         180\n",
       "23  AP0714887      160.0          780            615         16        2964\n",
       "26        NaN      150.0          220            510         32        1128\n",
       "29  AP0089696      930.0          250           3435          0         396\n",
       "31  AP0692473       90.0          215            375          0         348\n",
       "40  AP0438309      370.0           85              0          0         780\n",
       "42  AP1326350       80.0          250            690        128          48\n",
       "53  AP1976314      170.0          495              0        200          24\n",
       "55  AP3632706      140.0          380            165         32           0\n",
       "56  AP1871832      140.0          345              0          0          36\n",
       "57  AP0092627     1360.0         1090            210         24         192\n",
       "59  AP1815618      140.0          110              0         24           0\n",
       "64  AP0093884       80.0           65           1365          0           0\n",
       "67  AP0476079       80.0           70             75          0           0\n",
       "68  AP1822470      120.0          330           1200          0         504\n",
       "71  AP0118925      160.0          375              0        240           0\n",
       "74  AP1869077     1830.0          140              0        488          72\n",
       "76  AP1230067      110.0           70              0          0           0\n",
       "79  AP1336198      150.0          615              0          0           0\n",
       "82  AP1834639      270.0         1240             60         40          60\n",
       "85  AP0478796      630.0          240            150          0          96\n",
       "87  AP2459335      320.0          320              0        256          12\n",
       "89  AP0433841      120.0           65              0          0           0\n",
       "96  AP1273998      480.0          630              0          0           0"
      ]
     },
     "execution_count": 190,
     "metadata": {},
     "output_type": "execute_result"
    }
   ],
   "source": [
    "my_df[my_df[\"GlycoMax_RX\"]>50]"
   ]
  },
  {
   "cell_type": "code",
   "execution_count": 193,
   "metadata": {},
   "outputs": [
    {
     "data": {
      "text/html": [
       "<div>\n",
       "<style scoped>\n",
       "    .dataframe tbody tr th:only-of-type {\n",
       "        vertical-align: middle;\n",
       "    }\n",
       "\n",
       "    .dataframe tbody tr th {\n",
       "        vertical-align: top;\n",
       "    }\n",
       "\n",
       "    .dataframe thead th {\n",
       "        text-align: right;\n",
       "    }\n",
       "</style>\n",
       "<table border=\"1\" class=\"dataframe\">\n",
       "  <thead>\n",
       "    <tr style=\"text-align: right;\">\n",
       "      <th></th>\n",
       "      <th>PHYSICIAN</th>\n",
       "      <th>CroMax_RX</th>\n",
       "      <th>GlycoMax_RX</th>\n",
       "      <th>AllergyMax_RX</th>\n",
       "      <th>FevMax_RX</th>\n",
       "      <th>ColdMax_RX</th>\n",
       "    </tr>\n",
       "  </thead>\n",
       "  <tbody>\n",
       "    <tr>\n",
       "      <th>1</th>\n",
       "      <td>AP1350415</td>\n",
       "      <td>2370.0</td>\n",
       "      <td>1320</td>\n",
       "      <td>60</td>\n",
       "      <td>1416</td>\n",
       "      <td>2676</td>\n",
       "    </tr>\n",
       "    <tr>\n",
       "      <th>7</th>\n",
       "      <td>NaN</td>\n",
       "      <td>150.0</td>\n",
       "      <td>315</td>\n",
       "      <td>270</td>\n",
       "      <td>184</td>\n",
       "      <td>36</td>\n",
       "    </tr>\n",
       "    <tr>\n",
       "      <th>10</th>\n",
       "      <td>AP1934892</td>\n",
       "      <td>640.0</td>\n",
       "      <td>390</td>\n",
       "      <td>0</td>\n",
       "      <td>280</td>\n",
       "      <td>0</td>\n",
       "    </tr>\n",
       "    <tr>\n",
       "      <th>14</th>\n",
       "      <td>NaN</td>\n",
       "      <td>90.0</td>\n",
       "      <td>150</td>\n",
       "      <td>0</td>\n",
       "      <td>0</td>\n",
       "      <td>204</td>\n",
       "    </tr>\n",
       "    <tr>\n",
       "      <th>16</th>\n",
       "      <td>AP0036951</td>\n",
       "      <td>330.0</td>\n",
       "      <td>525</td>\n",
       "      <td>0</td>\n",
       "      <td>0</td>\n",
       "      <td>0</td>\n",
       "    </tr>\n",
       "    <tr>\n",
       "      <th>21</th>\n",
       "      <td>AP1332969</td>\n",
       "      <td>90.0</td>\n",
       "      <td>870</td>\n",
       "      <td>0</td>\n",
       "      <td>88</td>\n",
       "      <td>24</td>\n",
       "    </tr>\n",
       "    <tr>\n",
       "      <th>22</th>\n",
       "      <td>AP2130355</td>\n",
       "      <td>160.0</td>\n",
       "      <td>145</td>\n",
       "      <td>0</td>\n",
       "      <td>0</td>\n",
       "      <td>180</td>\n",
       "    </tr>\n",
       "    <tr>\n",
       "      <th>23</th>\n",
       "      <td>AP0714887</td>\n",
       "      <td>160.0</td>\n",
       "      <td>780</td>\n",
       "      <td>615</td>\n",
       "      <td>16</td>\n",
       "      <td>2964</td>\n",
       "    </tr>\n",
       "    <tr>\n",
       "      <th>26</th>\n",
       "      <td>NaN</td>\n",
       "      <td>150.0</td>\n",
       "      <td>220</td>\n",
       "      <td>510</td>\n",
       "      <td>32</td>\n",
       "      <td>1128</td>\n",
       "    </tr>\n",
       "    <tr>\n",
       "      <th>29</th>\n",
       "      <td>AP0089696</td>\n",
       "      <td>930.0</td>\n",
       "      <td>250</td>\n",
       "      <td>3435</td>\n",
       "      <td>0</td>\n",
       "      <td>396</td>\n",
       "    </tr>\n",
       "    <tr>\n",
       "      <th>31</th>\n",
       "      <td>AP0692473</td>\n",
       "      <td>90.0</td>\n",
       "      <td>215</td>\n",
       "      <td>375</td>\n",
       "      <td>0</td>\n",
       "      <td>348</td>\n",
       "    </tr>\n",
       "    <tr>\n",
       "      <th>40</th>\n",
       "      <td>AP0438309</td>\n",
       "      <td>370.0</td>\n",
       "      <td>85</td>\n",
       "      <td>0</td>\n",
       "      <td>0</td>\n",
       "      <td>780</td>\n",
       "    </tr>\n",
       "    <tr>\n",
       "      <th>42</th>\n",
       "      <td>AP1326350</td>\n",
       "      <td>80.0</td>\n",
       "      <td>250</td>\n",
       "      <td>690</td>\n",
       "      <td>128</td>\n",
       "      <td>48</td>\n",
       "    </tr>\n",
       "    <tr>\n",
       "      <th>53</th>\n",
       "      <td>AP1976314</td>\n",
       "      <td>170.0</td>\n",
       "      <td>495</td>\n",
       "      <td>0</td>\n",
       "      <td>200</td>\n",
       "      <td>24</td>\n",
       "    </tr>\n",
       "    <tr>\n",
       "      <th>55</th>\n",
       "      <td>AP3632706</td>\n",
       "      <td>140.0</td>\n",
       "      <td>380</td>\n",
       "      <td>165</td>\n",
       "      <td>32</td>\n",
       "      <td>0</td>\n",
       "    </tr>\n",
       "    <tr>\n",
       "      <th>56</th>\n",
       "      <td>AP1871832</td>\n",
       "      <td>140.0</td>\n",
       "      <td>345</td>\n",
       "      <td>0</td>\n",
       "      <td>0</td>\n",
       "      <td>36</td>\n",
       "    </tr>\n",
       "    <tr>\n",
       "      <th>57</th>\n",
       "      <td>AP0092627</td>\n",
       "      <td>1360.0</td>\n",
       "      <td>1090</td>\n",
       "      <td>210</td>\n",
       "      <td>24</td>\n",
       "      <td>192</td>\n",
       "    </tr>\n",
       "    <tr>\n",
       "      <th>59</th>\n",
       "      <td>AP1815618</td>\n",
       "      <td>140.0</td>\n",
       "      <td>110</td>\n",
       "      <td>0</td>\n",
       "      <td>24</td>\n",
       "      <td>0</td>\n",
       "    </tr>\n",
       "    <tr>\n",
       "      <th>64</th>\n",
       "      <td>AP0093884</td>\n",
       "      <td>80.0</td>\n",
       "      <td>65</td>\n",
       "      <td>1365</td>\n",
       "      <td>0</td>\n",
       "      <td>0</td>\n",
       "    </tr>\n",
       "    <tr>\n",
       "      <th>67</th>\n",
       "      <td>AP0476079</td>\n",
       "      <td>80.0</td>\n",
       "      <td>70</td>\n",
       "      <td>75</td>\n",
       "      <td>0</td>\n",
       "      <td>0</td>\n",
       "    </tr>\n",
       "    <tr>\n",
       "      <th>68</th>\n",
       "      <td>AP1822470</td>\n",
       "      <td>120.0</td>\n",
       "      <td>330</td>\n",
       "      <td>1200</td>\n",
       "      <td>0</td>\n",
       "      <td>504</td>\n",
       "    </tr>\n",
       "    <tr>\n",
       "      <th>71</th>\n",
       "      <td>AP0118925</td>\n",
       "      <td>160.0</td>\n",
       "      <td>375</td>\n",
       "      <td>0</td>\n",
       "      <td>240</td>\n",
       "      <td>0</td>\n",
       "    </tr>\n",
       "    <tr>\n",
       "      <th>74</th>\n",
       "      <td>AP1869077</td>\n",
       "      <td>1830.0</td>\n",
       "      <td>140</td>\n",
       "      <td>0</td>\n",
       "      <td>488</td>\n",
       "      <td>72</td>\n",
       "    </tr>\n",
       "    <tr>\n",
       "      <th>76</th>\n",
       "      <td>AP1230067</td>\n",
       "      <td>110.0</td>\n",
       "      <td>70</td>\n",
       "      <td>0</td>\n",
       "      <td>0</td>\n",
       "      <td>0</td>\n",
       "    </tr>\n",
       "    <tr>\n",
       "      <th>79</th>\n",
       "      <td>AP1336198</td>\n",
       "      <td>150.0</td>\n",
       "      <td>615</td>\n",
       "      <td>0</td>\n",
       "      <td>0</td>\n",
       "      <td>0</td>\n",
       "    </tr>\n",
       "    <tr>\n",
       "      <th>82</th>\n",
       "      <td>AP1834639</td>\n",
       "      <td>270.0</td>\n",
       "      <td>1240</td>\n",
       "      <td>60</td>\n",
       "      <td>40</td>\n",
       "      <td>60</td>\n",
       "    </tr>\n",
       "    <tr>\n",
       "      <th>85</th>\n",
       "      <td>AP0478796</td>\n",
       "      <td>630.0</td>\n",
       "      <td>240</td>\n",
       "      <td>150</td>\n",
       "      <td>0</td>\n",
       "      <td>96</td>\n",
       "    </tr>\n",
       "    <tr>\n",
       "      <th>87</th>\n",
       "      <td>AP2459335</td>\n",
       "      <td>320.0</td>\n",
       "      <td>320</td>\n",
       "      <td>0</td>\n",
       "      <td>256</td>\n",
       "      <td>12</td>\n",
       "    </tr>\n",
       "    <tr>\n",
       "      <th>89</th>\n",
       "      <td>AP0433841</td>\n",
       "      <td>120.0</td>\n",
       "      <td>65</td>\n",
       "      <td>0</td>\n",
       "      <td>0</td>\n",
       "      <td>0</td>\n",
       "    </tr>\n",
       "    <tr>\n",
       "      <th>96</th>\n",
       "      <td>AP1273998</td>\n",
       "      <td>480.0</td>\n",
       "      <td>630</td>\n",
       "      <td>0</td>\n",
       "      <td>0</td>\n",
       "      <td>0</td>\n",
       "    </tr>\n",
       "  </tbody>\n",
       "</table>\n",
       "</div>"
      ],
      "text/plain": [
       "    PHYSICIAN  CroMax_RX  GlycoMax_RX  AllergyMax_RX  FevMax_RX  ColdMax_RX\n",
       "1   AP1350415     2370.0         1320             60       1416        2676\n",
       "7         NaN      150.0          315            270        184          36\n",
       "10  AP1934892      640.0          390              0        280           0\n",
       "14        NaN       90.0          150              0          0         204\n",
       "16  AP0036951      330.0          525              0          0           0\n",
       "21  AP1332969       90.0          870              0         88          24\n",
       "22  AP2130355      160.0          145              0          0         180\n",
       "23  AP0714887      160.0          780            615         16        2964\n",
       "26        NaN      150.0          220            510         32        1128\n",
       "29  AP0089696      930.0          250           3435          0         396\n",
       "31  AP0692473       90.0          215            375          0         348\n",
       "40  AP0438309      370.0           85              0          0         780\n",
       "42  AP1326350       80.0          250            690        128          48\n",
       "53  AP1976314      170.0          495              0        200          24\n",
       "55  AP3632706      140.0          380            165         32           0\n",
       "56  AP1871832      140.0          345              0          0          36\n",
       "57  AP0092627     1360.0         1090            210         24         192\n",
       "59  AP1815618      140.0          110              0         24           0\n",
       "64  AP0093884       80.0           65           1365          0           0\n",
       "67  AP0476079       80.0           70             75          0           0\n",
       "68  AP1822470      120.0          330           1200          0         504\n",
       "71  AP0118925      160.0          375              0        240           0\n",
       "74  AP1869077     1830.0          140              0        488          72\n",
       "76  AP1230067      110.0           70              0          0           0\n",
       "79  AP1336198      150.0          615              0          0           0\n",
       "82  AP1834639      270.0         1240             60         40          60\n",
       "85  AP0478796      630.0          240            150          0          96\n",
       "87  AP2459335      320.0          320              0        256          12\n",
       "89  AP0433841      120.0           65              0          0           0\n",
       "96  AP1273998      480.0          630              0          0           0"
      ]
     },
     "execution_count": 193,
     "metadata": {},
     "output_type": "execute_result"
    }
   ],
   "source": [
    "df[(df[\"CroMax_RX\"]>50)&(df[\"GlycoMax_RX\"]>50)]"
   ]
  },
  {
   "cell_type": "code",
   "execution_count": 195,
   "metadata": {},
   "outputs": [
    {
     "data": {
      "text/html": [
       "<div>\n",
       "<style scoped>\n",
       "    .dataframe tbody tr th:only-of-type {\n",
       "        vertical-align: middle;\n",
       "    }\n",
       "\n",
       "    .dataframe tbody tr th {\n",
       "        vertical-align: top;\n",
       "    }\n",
       "\n",
       "    .dataframe thead th {\n",
       "        text-align: right;\n",
       "    }\n",
       "</style>\n",
       "<table border=\"1\" class=\"dataframe\">\n",
       "  <thead>\n",
       "    <tr style=\"text-align: right;\">\n",
       "      <th></th>\n",
       "      <th>PHYSICIAN</th>\n",
       "    </tr>\n",
       "  </thead>\n",
       "  <tbody>\n",
       "    <tr>\n",
       "      <th>0</th>\n",
       "      <td>AP1912920</td>\n",
       "    </tr>\n",
       "  </tbody>\n",
       "</table>\n",
       "</div>"
      ],
      "text/plain": [
       "   PHYSICIAN\n",
       "0  AP1912920"
      ]
     },
     "execution_count": 195,
     "metadata": {},
     "output_type": "execute_result"
    }
   ],
   "source": [
    "df.iloc[0:1,0:1]"
   ]
  },
  {
   "cell_type": "code",
   "execution_count": 196,
   "metadata": {},
   "outputs": [
    {
     "data": {
      "text/plain": [
       "'AP1912920'"
      ]
     },
     "execution_count": 196,
     "metadata": {},
     "output_type": "execute_result"
    }
   ],
   "source": [
    "df.iat[0,0] # iat and at are only designed to return single cell and loc,iloc for multiple cells "
   ]
  },
  {
   "cell_type": "code",
   "execution_count": 197,
   "metadata": {},
   "outputs": [
    {
     "data": {
      "text/plain": [
       "'AP1912920'"
      ]
     },
     "execution_count": 197,
     "metadata": {},
     "output_type": "execute_result"
    }
   ],
   "source": [
    "df.at[0,\"PHYSICIAN\"]#FASTEST WAY TO ACCESS SCALAR VALUE BY USING IAT AND AT"
   ]
  },
  {
   "cell_type": "code",
   "execution_count": 198,
   "metadata": {},
   "outputs": [
    {
     "data": {
      "text/html": [
       "<div>\n",
       "<style scoped>\n",
       "    .dataframe tbody tr th:only-of-type {\n",
       "        vertical-align: middle;\n",
       "    }\n",
       "\n",
       "    .dataframe tbody tr th {\n",
       "        vertical-align: top;\n",
       "    }\n",
       "\n",
       "    .dataframe thead th {\n",
       "        text-align: right;\n",
       "    }\n",
       "</style>\n",
       "<table border=\"1\" class=\"dataframe\">\n",
       "  <thead>\n",
       "    <tr style=\"text-align: right;\">\n",
       "      <th></th>\n",
       "      <th>PHYSICIAN</th>\n",
       "      <th>CroMax_RX</th>\n",
       "      <th>GlycoMax_RX</th>\n",
       "      <th>AllergyMax_RX</th>\n",
       "      <th>FevMax_RX</th>\n",
       "      <th>ColdMax_RX</th>\n",
       "    </tr>\n",
       "  </thead>\n",
       "  <tbody>\n",
       "    <tr>\n",
       "      <th>0</th>\n",
       "      <td>False</td>\n",
       "      <td>False</td>\n",
       "      <td>False</td>\n",
       "      <td>False</td>\n",
       "      <td>False</td>\n",
       "      <td>False</td>\n",
       "    </tr>\n",
       "    <tr>\n",
       "      <th>1</th>\n",
       "      <td>False</td>\n",
       "      <td>False</td>\n",
       "      <td>False</td>\n",
       "      <td>False</td>\n",
       "      <td>False</td>\n",
       "      <td>False</td>\n",
       "    </tr>\n",
       "    <tr>\n",
       "      <th>2</th>\n",
       "      <td>False</td>\n",
       "      <td>False</td>\n",
       "      <td>False</td>\n",
       "      <td>False</td>\n",
       "      <td>False</td>\n",
       "      <td>False</td>\n",
       "    </tr>\n",
       "    <tr>\n",
       "      <th>3</th>\n",
       "      <td>False</td>\n",
       "      <td>False</td>\n",
       "      <td>False</td>\n",
       "      <td>False</td>\n",
       "      <td>False</td>\n",
       "      <td>False</td>\n",
       "    </tr>\n",
       "    <tr>\n",
       "      <th>4</th>\n",
       "      <td>False</td>\n",
       "      <td>False</td>\n",
       "      <td>False</td>\n",
       "      <td>False</td>\n",
       "      <td>False</td>\n",
       "      <td>False</td>\n",
       "    </tr>\n",
       "    <tr>\n",
       "      <th>5</th>\n",
       "      <td>False</td>\n",
       "      <td>False</td>\n",
       "      <td>False</td>\n",
       "      <td>False</td>\n",
       "      <td>False</td>\n",
       "      <td>False</td>\n",
       "    </tr>\n",
       "    <tr>\n",
       "      <th>6</th>\n",
       "      <td>False</td>\n",
       "      <td>False</td>\n",
       "      <td>False</td>\n",
       "      <td>False</td>\n",
       "      <td>False</td>\n",
       "      <td>False</td>\n",
       "    </tr>\n",
       "    <tr>\n",
       "      <th>7</th>\n",
       "      <td>True</td>\n",
       "      <td>False</td>\n",
       "      <td>False</td>\n",
       "      <td>False</td>\n",
       "      <td>False</td>\n",
       "      <td>False</td>\n",
       "    </tr>\n",
       "    <tr>\n",
       "      <th>8</th>\n",
       "      <td>False</td>\n",
       "      <td>False</td>\n",
       "      <td>False</td>\n",
       "      <td>False</td>\n",
       "      <td>False</td>\n",
       "      <td>False</td>\n",
       "    </tr>\n",
       "    <tr>\n",
       "      <th>9</th>\n",
       "      <td>False</td>\n",
       "      <td>False</td>\n",
       "      <td>False</td>\n",
       "      <td>False</td>\n",
       "      <td>False</td>\n",
       "      <td>False</td>\n",
       "    </tr>\n",
       "    <tr>\n",
       "      <th>10</th>\n",
       "      <td>False</td>\n",
       "      <td>False</td>\n",
       "      <td>False</td>\n",
       "      <td>False</td>\n",
       "      <td>False</td>\n",
       "      <td>False</td>\n",
       "    </tr>\n",
       "    <tr>\n",
       "      <th>11</th>\n",
       "      <td>False</td>\n",
       "      <td>False</td>\n",
       "      <td>False</td>\n",
       "      <td>False</td>\n",
       "      <td>False</td>\n",
       "      <td>False</td>\n",
       "    </tr>\n",
       "    <tr>\n",
       "      <th>12</th>\n",
       "      <td>False</td>\n",
       "      <td>False</td>\n",
       "      <td>False</td>\n",
       "      <td>False</td>\n",
       "      <td>False</td>\n",
       "      <td>False</td>\n",
       "    </tr>\n",
       "    <tr>\n",
       "      <th>13</th>\n",
       "      <td>False</td>\n",
       "      <td>False</td>\n",
       "      <td>False</td>\n",
       "      <td>False</td>\n",
       "      <td>False</td>\n",
       "      <td>False</td>\n",
       "    </tr>\n",
       "    <tr>\n",
       "      <th>14</th>\n",
       "      <td>True</td>\n",
       "      <td>False</td>\n",
       "      <td>False</td>\n",
       "      <td>False</td>\n",
       "      <td>False</td>\n",
       "      <td>False</td>\n",
       "    </tr>\n",
       "    <tr>\n",
       "      <th>15</th>\n",
       "      <td>False</td>\n",
       "      <td>False</td>\n",
       "      <td>False</td>\n",
       "      <td>False</td>\n",
       "      <td>False</td>\n",
       "      <td>False</td>\n",
       "    </tr>\n",
       "    <tr>\n",
       "      <th>16</th>\n",
       "      <td>False</td>\n",
       "      <td>False</td>\n",
       "      <td>False</td>\n",
       "      <td>False</td>\n",
       "      <td>False</td>\n",
       "      <td>False</td>\n",
       "    </tr>\n",
       "    <tr>\n",
       "      <th>17</th>\n",
       "      <td>False</td>\n",
       "      <td>False</td>\n",
       "      <td>False</td>\n",
       "      <td>False</td>\n",
       "      <td>False</td>\n",
       "      <td>False</td>\n",
       "    </tr>\n",
       "    <tr>\n",
       "      <th>18</th>\n",
       "      <td>False</td>\n",
       "      <td>False</td>\n",
       "      <td>False</td>\n",
       "      <td>False</td>\n",
       "      <td>False</td>\n",
       "      <td>False</td>\n",
       "    </tr>\n",
       "    <tr>\n",
       "      <th>19</th>\n",
       "      <td>False</td>\n",
       "      <td>False</td>\n",
       "      <td>False</td>\n",
       "      <td>False</td>\n",
       "      <td>False</td>\n",
       "      <td>False</td>\n",
       "    </tr>\n",
       "    <tr>\n",
       "      <th>20</th>\n",
       "      <td>True</td>\n",
       "      <td>False</td>\n",
       "      <td>False</td>\n",
       "      <td>False</td>\n",
       "      <td>False</td>\n",
       "      <td>False</td>\n",
       "    </tr>\n",
       "    <tr>\n",
       "      <th>21</th>\n",
       "      <td>False</td>\n",
       "      <td>False</td>\n",
       "      <td>False</td>\n",
       "      <td>False</td>\n",
       "      <td>False</td>\n",
       "      <td>False</td>\n",
       "    </tr>\n",
       "    <tr>\n",
       "      <th>22</th>\n",
       "      <td>False</td>\n",
       "      <td>False</td>\n",
       "      <td>False</td>\n",
       "      <td>False</td>\n",
       "      <td>False</td>\n",
       "      <td>False</td>\n",
       "    </tr>\n",
       "    <tr>\n",
       "      <th>23</th>\n",
       "      <td>False</td>\n",
       "      <td>False</td>\n",
       "      <td>False</td>\n",
       "      <td>False</td>\n",
       "      <td>False</td>\n",
       "      <td>False</td>\n",
       "    </tr>\n",
       "    <tr>\n",
       "      <th>24</th>\n",
       "      <td>False</td>\n",
       "      <td>False</td>\n",
       "      <td>False</td>\n",
       "      <td>False</td>\n",
       "      <td>False</td>\n",
       "      <td>False</td>\n",
       "    </tr>\n",
       "    <tr>\n",
       "      <th>25</th>\n",
       "      <td>False</td>\n",
       "      <td>False</td>\n",
       "      <td>False</td>\n",
       "      <td>False</td>\n",
       "      <td>False</td>\n",
       "      <td>False</td>\n",
       "    </tr>\n",
       "    <tr>\n",
       "      <th>26</th>\n",
       "      <td>True</td>\n",
       "      <td>False</td>\n",
       "      <td>False</td>\n",
       "      <td>False</td>\n",
       "      <td>False</td>\n",
       "      <td>False</td>\n",
       "    </tr>\n",
       "    <tr>\n",
       "      <th>27</th>\n",
       "      <td>False</td>\n",
       "      <td>False</td>\n",
       "      <td>False</td>\n",
       "      <td>False</td>\n",
       "      <td>False</td>\n",
       "      <td>False</td>\n",
       "    </tr>\n",
       "    <tr>\n",
       "      <th>28</th>\n",
       "      <td>False</td>\n",
       "      <td>False</td>\n",
       "      <td>False</td>\n",
       "      <td>False</td>\n",
       "      <td>False</td>\n",
       "      <td>False</td>\n",
       "    </tr>\n",
       "    <tr>\n",
       "      <th>29</th>\n",
       "      <td>False</td>\n",
       "      <td>False</td>\n",
       "      <td>False</td>\n",
       "      <td>False</td>\n",
       "      <td>False</td>\n",
       "      <td>False</td>\n",
       "    </tr>\n",
       "    <tr>\n",
       "      <th>...</th>\n",
       "      <td>...</td>\n",
       "      <td>...</td>\n",
       "      <td>...</td>\n",
       "      <td>...</td>\n",
       "      <td>...</td>\n",
       "      <td>...</td>\n",
       "    </tr>\n",
       "    <tr>\n",
       "      <th>70</th>\n",
       "      <td>False</td>\n",
       "      <td>False</td>\n",
       "      <td>False</td>\n",
       "      <td>False</td>\n",
       "      <td>False</td>\n",
       "      <td>False</td>\n",
       "    </tr>\n",
       "    <tr>\n",
       "      <th>71</th>\n",
       "      <td>False</td>\n",
       "      <td>False</td>\n",
       "      <td>False</td>\n",
       "      <td>False</td>\n",
       "      <td>False</td>\n",
       "      <td>False</td>\n",
       "    </tr>\n",
       "    <tr>\n",
       "      <th>72</th>\n",
       "      <td>False</td>\n",
       "      <td>False</td>\n",
       "      <td>False</td>\n",
       "      <td>False</td>\n",
       "      <td>False</td>\n",
       "      <td>False</td>\n",
       "    </tr>\n",
       "    <tr>\n",
       "      <th>73</th>\n",
       "      <td>False</td>\n",
       "      <td>False</td>\n",
       "      <td>False</td>\n",
       "      <td>False</td>\n",
       "      <td>False</td>\n",
       "      <td>False</td>\n",
       "    </tr>\n",
       "    <tr>\n",
       "      <th>74</th>\n",
       "      <td>False</td>\n",
       "      <td>False</td>\n",
       "      <td>False</td>\n",
       "      <td>False</td>\n",
       "      <td>False</td>\n",
       "      <td>False</td>\n",
       "    </tr>\n",
       "    <tr>\n",
       "      <th>75</th>\n",
       "      <td>False</td>\n",
       "      <td>False</td>\n",
       "      <td>False</td>\n",
       "      <td>False</td>\n",
       "      <td>False</td>\n",
       "      <td>False</td>\n",
       "    </tr>\n",
       "    <tr>\n",
       "      <th>76</th>\n",
       "      <td>False</td>\n",
       "      <td>False</td>\n",
       "      <td>False</td>\n",
       "      <td>False</td>\n",
       "      <td>False</td>\n",
       "      <td>False</td>\n",
       "    </tr>\n",
       "    <tr>\n",
       "      <th>77</th>\n",
       "      <td>False</td>\n",
       "      <td>False</td>\n",
       "      <td>False</td>\n",
       "      <td>False</td>\n",
       "      <td>False</td>\n",
       "      <td>False</td>\n",
       "    </tr>\n",
       "    <tr>\n",
       "      <th>78</th>\n",
       "      <td>False</td>\n",
       "      <td>False</td>\n",
       "      <td>False</td>\n",
       "      <td>False</td>\n",
       "      <td>False</td>\n",
       "      <td>False</td>\n",
       "    </tr>\n",
       "    <tr>\n",
       "      <th>79</th>\n",
       "      <td>False</td>\n",
       "      <td>False</td>\n",
       "      <td>False</td>\n",
       "      <td>False</td>\n",
       "      <td>False</td>\n",
       "      <td>False</td>\n",
       "    </tr>\n",
       "    <tr>\n",
       "      <th>80</th>\n",
       "      <td>False</td>\n",
       "      <td>False</td>\n",
       "      <td>False</td>\n",
       "      <td>False</td>\n",
       "      <td>False</td>\n",
       "      <td>False</td>\n",
       "    </tr>\n",
       "    <tr>\n",
       "      <th>81</th>\n",
       "      <td>False</td>\n",
       "      <td>False</td>\n",
       "      <td>False</td>\n",
       "      <td>False</td>\n",
       "      <td>False</td>\n",
       "      <td>False</td>\n",
       "    </tr>\n",
       "    <tr>\n",
       "      <th>82</th>\n",
       "      <td>False</td>\n",
       "      <td>False</td>\n",
       "      <td>False</td>\n",
       "      <td>False</td>\n",
       "      <td>False</td>\n",
       "      <td>False</td>\n",
       "    </tr>\n",
       "    <tr>\n",
       "      <th>83</th>\n",
       "      <td>False</td>\n",
       "      <td>False</td>\n",
       "      <td>False</td>\n",
       "      <td>False</td>\n",
       "      <td>False</td>\n",
       "      <td>False</td>\n",
       "    </tr>\n",
       "    <tr>\n",
       "      <th>84</th>\n",
       "      <td>False</td>\n",
       "      <td>False</td>\n",
       "      <td>False</td>\n",
       "      <td>False</td>\n",
       "      <td>False</td>\n",
       "      <td>False</td>\n",
       "    </tr>\n",
       "    <tr>\n",
       "      <th>85</th>\n",
       "      <td>False</td>\n",
       "      <td>False</td>\n",
       "      <td>False</td>\n",
       "      <td>False</td>\n",
       "      <td>False</td>\n",
       "      <td>False</td>\n",
       "    </tr>\n",
       "    <tr>\n",
       "      <th>86</th>\n",
       "      <td>False</td>\n",
       "      <td>False</td>\n",
       "      <td>False</td>\n",
       "      <td>False</td>\n",
       "      <td>False</td>\n",
       "      <td>False</td>\n",
       "    </tr>\n",
       "    <tr>\n",
       "      <th>87</th>\n",
       "      <td>False</td>\n",
       "      <td>False</td>\n",
       "      <td>False</td>\n",
       "      <td>False</td>\n",
       "      <td>False</td>\n",
       "      <td>False</td>\n",
       "    </tr>\n",
       "    <tr>\n",
       "      <th>88</th>\n",
       "      <td>False</td>\n",
       "      <td>True</td>\n",
       "      <td>False</td>\n",
       "      <td>False</td>\n",
       "      <td>False</td>\n",
       "      <td>False</td>\n",
       "    </tr>\n",
       "    <tr>\n",
       "      <th>89</th>\n",
       "      <td>False</td>\n",
       "      <td>False</td>\n",
       "      <td>False</td>\n",
       "      <td>False</td>\n",
       "      <td>False</td>\n",
       "      <td>False</td>\n",
       "    </tr>\n",
       "    <tr>\n",
       "      <th>90</th>\n",
       "      <td>False</td>\n",
       "      <td>False</td>\n",
       "      <td>False</td>\n",
       "      <td>False</td>\n",
       "      <td>False</td>\n",
       "      <td>False</td>\n",
       "    </tr>\n",
       "    <tr>\n",
       "      <th>91</th>\n",
       "      <td>False</td>\n",
       "      <td>False</td>\n",
       "      <td>False</td>\n",
       "      <td>False</td>\n",
       "      <td>False</td>\n",
       "      <td>False</td>\n",
       "    </tr>\n",
       "    <tr>\n",
       "      <th>92</th>\n",
       "      <td>False</td>\n",
       "      <td>False</td>\n",
       "      <td>False</td>\n",
       "      <td>False</td>\n",
       "      <td>False</td>\n",
       "      <td>False</td>\n",
       "    </tr>\n",
       "    <tr>\n",
       "      <th>93</th>\n",
       "      <td>False</td>\n",
       "      <td>False</td>\n",
       "      <td>False</td>\n",
       "      <td>False</td>\n",
       "      <td>False</td>\n",
       "      <td>False</td>\n",
       "    </tr>\n",
       "    <tr>\n",
       "      <th>94</th>\n",
       "      <td>False</td>\n",
       "      <td>False</td>\n",
       "      <td>False</td>\n",
       "      <td>False</td>\n",
       "      <td>False</td>\n",
       "      <td>False</td>\n",
       "    </tr>\n",
       "    <tr>\n",
       "      <th>95</th>\n",
       "      <td>False</td>\n",
       "      <td>False</td>\n",
       "      <td>False</td>\n",
       "      <td>False</td>\n",
       "      <td>False</td>\n",
       "      <td>False</td>\n",
       "    </tr>\n",
       "    <tr>\n",
       "      <th>96</th>\n",
       "      <td>False</td>\n",
       "      <td>False</td>\n",
       "      <td>False</td>\n",
       "      <td>False</td>\n",
       "      <td>False</td>\n",
       "      <td>False</td>\n",
       "    </tr>\n",
       "    <tr>\n",
       "      <th>97</th>\n",
       "      <td>False</td>\n",
       "      <td>False</td>\n",
       "      <td>False</td>\n",
       "      <td>False</td>\n",
       "      <td>False</td>\n",
       "      <td>False</td>\n",
       "    </tr>\n",
       "    <tr>\n",
       "      <th>98</th>\n",
       "      <td>False</td>\n",
       "      <td>False</td>\n",
       "      <td>False</td>\n",
       "      <td>False</td>\n",
       "      <td>False</td>\n",
       "      <td>False</td>\n",
       "    </tr>\n",
       "    <tr>\n",
       "      <th>99</th>\n",
       "      <td>False</td>\n",
       "      <td>False</td>\n",
       "      <td>False</td>\n",
       "      <td>False</td>\n",
       "      <td>False</td>\n",
       "      <td>False</td>\n",
       "    </tr>\n",
       "  </tbody>\n",
       "</table>\n",
       "<p>100 rows × 6 columns</p>\n",
       "</div>"
      ],
      "text/plain": [
       "    PHYSICIAN  CroMax_RX  GlycoMax_RX  AllergyMax_RX  FevMax_RX  ColdMax_RX\n",
       "0       False      False        False          False      False       False\n",
       "1       False      False        False          False      False       False\n",
       "2       False      False        False          False      False       False\n",
       "3       False      False        False          False      False       False\n",
       "4       False      False        False          False      False       False\n",
       "5       False      False        False          False      False       False\n",
       "6       False      False        False          False      False       False\n",
       "7        True      False        False          False      False       False\n",
       "8       False      False        False          False      False       False\n",
       "9       False      False        False          False      False       False\n",
       "10      False      False        False          False      False       False\n",
       "11      False      False        False          False      False       False\n",
       "12      False      False        False          False      False       False\n",
       "13      False      False        False          False      False       False\n",
       "14       True      False        False          False      False       False\n",
       "15      False      False        False          False      False       False\n",
       "16      False      False        False          False      False       False\n",
       "17      False      False        False          False      False       False\n",
       "18      False      False        False          False      False       False\n",
       "19      False      False        False          False      False       False\n",
       "20       True      False        False          False      False       False\n",
       "21      False      False        False          False      False       False\n",
       "22      False      False        False          False      False       False\n",
       "23      False      False        False          False      False       False\n",
       "24      False      False        False          False      False       False\n",
       "25      False      False        False          False      False       False\n",
       "26       True      False        False          False      False       False\n",
       "27      False      False        False          False      False       False\n",
       "28      False      False        False          False      False       False\n",
       "29      False      False        False          False      False       False\n",
       "..        ...        ...          ...            ...        ...         ...\n",
       "70      False      False        False          False      False       False\n",
       "71      False      False        False          False      False       False\n",
       "72      False      False        False          False      False       False\n",
       "73      False      False        False          False      False       False\n",
       "74      False      False        False          False      False       False\n",
       "75      False      False        False          False      False       False\n",
       "76      False      False        False          False      False       False\n",
       "77      False      False        False          False      False       False\n",
       "78      False      False        False          False      False       False\n",
       "79      False      False        False          False      False       False\n",
       "80      False      False        False          False      False       False\n",
       "81      False      False        False          False      False       False\n",
       "82      False      False        False          False      False       False\n",
       "83      False      False        False          False      False       False\n",
       "84      False      False        False          False      False       False\n",
       "85      False      False        False          False      False       False\n",
       "86      False      False        False          False      False       False\n",
       "87      False      False        False          False      False       False\n",
       "88      False       True        False          False      False       False\n",
       "89      False      False        False          False      False       False\n",
       "90      False      False        False          False      False       False\n",
       "91      False      False        False          False      False       False\n",
       "92      False      False        False          False      False       False\n",
       "93      False      False        False          False      False       False\n",
       "94      False      False        False          False      False       False\n",
       "95      False      False        False          False      False       False\n",
       "96      False      False        False          False      False       False\n",
       "97      False      False        False          False      False       False\n",
       "98      False      False        False          False      False       False\n",
       "99      False      False        False          False      False       False\n",
       "\n",
       "[100 rows x 6 columns]"
      ]
     },
     "execution_count": 198,
     "metadata": {},
     "output_type": "execute_result"
    }
   ],
   "source": [
    "df.isnull()"
   ]
  },
  {
   "cell_type": "code",
   "execution_count": 199,
   "metadata": {},
   "outputs": [
    {
     "data": {
      "text/plain": [
       "PHYSICIAN        4\n",
       "CroMax_RX        4\n",
       "GlycoMax_RX      0\n",
       "AllergyMax_RX    0\n",
       "FevMax_RX        0\n",
       "ColdMax_RX       0\n",
       "dtype: int64"
      ]
     },
     "execution_count": 199,
     "metadata": {},
     "output_type": "execute_result"
    }
   ],
   "source": [
    "df.isnull().sum()"
   ]
  },
  {
   "cell_type": "code",
   "execution_count": 209,
   "metadata": {},
   "outputs": [
    {
     "data": {
      "text/plain": [
       "0        0.0\n",
       "1     2370.0\n",
       "2        0.0\n",
       "3       30.0\n",
       "4        0.0\n",
       "5       70.0\n",
       "6        0.0\n",
       "7      150.0\n",
       "8        0.0\n",
       "9        0.0\n",
       "10     640.0\n",
       "11     160.0\n",
       "12       0.0\n",
       "13     400.0\n",
       "14      90.0\n",
       "15       0.0\n",
       "16     330.0\n",
       "17       0.0\n",
       "18       0.0\n",
       "19       0.0\n",
       "20       0.0\n",
       "21      90.0\n",
       "22     160.0\n",
       "23     160.0\n",
       "24       0.0\n",
       "25       0.0\n",
       "26     150.0\n",
       "27       0.0\n",
       "28       0.0\n",
       "29     930.0\n",
       "       ...  \n",
       "70      50.0\n",
       "71     160.0\n",
       "72       0.0\n",
       "73      10.0\n",
       "74    1830.0\n",
       "75       0.0\n",
       "76     110.0\n",
       "77       0.0\n",
       "78       0.0\n",
       "79     150.0\n",
       "80       0.0\n",
       "81      20.0\n",
       "82     270.0\n",
       "83       0.0\n",
       "84       0.0\n",
       "85     630.0\n",
       "86       0.0\n",
       "87     320.0\n",
       "88       NaN\n",
       "89     120.0\n",
       "90       0.0\n",
       "91       0.0\n",
       "92       0.0\n",
       "93       0.0\n",
       "94       0.0\n",
       "95     390.0\n",
       "96     480.0\n",
       "97       0.0\n",
       "98       0.0\n",
       "99      10.0\n",
       "Name: CroMax_RX, Length: 100, dtype: float64"
      ]
     },
     "execution_count": 209,
     "metadata": {},
     "output_type": "execute_result"
    }
   ],
   "source": [
    "df[\"CroMax_RX\"]"
   ]
  },
  {
   "cell_type": "code",
   "execution_count": 210,
   "metadata": {},
   "outputs": [
    {
     "data": {
      "text/html": [
       "<div>\n",
       "<style scoped>\n",
       "    .dataframe tbody tr th:only-of-type {\n",
       "        vertical-align: middle;\n",
       "    }\n",
       "\n",
       "    .dataframe tbody tr th {\n",
       "        vertical-align: top;\n",
       "    }\n",
       "\n",
       "    .dataframe thead th {\n",
       "        text-align: right;\n",
       "    }\n",
       "</style>\n",
       "<table border=\"1\" class=\"dataframe\">\n",
       "  <thead>\n",
       "    <tr style=\"text-align: right;\">\n",
       "      <th></th>\n",
       "      <th>PHYSICIAN</th>\n",
       "      <th>CroMax_RX</th>\n",
       "      <th>GlycoMax_RX</th>\n",
       "      <th>AllergyMax_RX</th>\n",
       "      <th>FevMax_RX</th>\n",
       "      <th>ColdMax_RX</th>\n",
       "    </tr>\n",
       "  </thead>\n",
       "  <tbody>\n",
       "    <tr>\n",
       "      <th>33</th>\n",
       "      <td>AP0464297</td>\n",
       "      <td>NaN</td>\n",
       "      <td>405</td>\n",
       "      <td>0</td>\n",
       "      <td>0</td>\n",
       "      <td>36</td>\n",
       "    </tr>\n",
       "    <tr>\n",
       "      <th>48</th>\n",
       "      <td>AP1948690</td>\n",
       "      <td>NaN</td>\n",
       "      <td>105</td>\n",
       "      <td>690</td>\n",
       "      <td>8</td>\n",
       "      <td>0</td>\n",
       "    </tr>\n",
       "    <tr>\n",
       "      <th>65</th>\n",
       "      <td>AP2102094</td>\n",
       "      <td>NaN</td>\n",
       "      <td>220</td>\n",
       "      <td>0</td>\n",
       "      <td>432</td>\n",
       "      <td>216</td>\n",
       "    </tr>\n",
       "    <tr>\n",
       "      <th>88</th>\n",
       "      <td>AP0812453</td>\n",
       "      <td>NaN</td>\n",
       "      <td>45</td>\n",
       "      <td>0</td>\n",
       "      <td>0</td>\n",
       "      <td>264</td>\n",
       "    </tr>\n",
       "  </tbody>\n",
       "</table>\n",
       "</div>"
      ],
      "text/plain": [
       "    PHYSICIAN  CroMax_RX  GlycoMax_RX  AllergyMax_RX  FevMax_RX  ColdMax_RX\n",
       "33  AP0464297        NaN          405              0          0          36\n",
       "48  AP1948690        NaN          105            690          8           0\n",
       "65  AP2102094        NaN          220              0        432         216\n",
       "88  AP0812453        NaN           45              0          0         264"
      ]
     },
     "execution_count": 210,
     "metadata": {},
     "output_type": "execute_result"
    }
   ],
   "source": [
    "df[df[\"CroMax_RX\"].isnull()]"
   ]
  },
  {
   "cell_type": "code",
   "execution_count": 213,
   "metadata": {},
   "outputs": [],
   "source": [
    "df[\"CroMax_RX\"] = df[\"CroMax_RX\"].fillna(0)"
   ]
  },
  {
   "cell_type": "code",
   "execution_count": 214,
   "metadata": {},
   "outputs": [
    {
     "data": {
      "text/plain": [
       "PHYSICIAN        4\n",
       "CroMax_RX        0\n",
       "GlycoMax_RX      0\n",
       "AllergyMax_RX    0\n",
       "FevMax_RX        0\n",
       "ColdMax_RX       0\n",
       "dtype: int64"
      ]
     },
     "execution_count": 214,
     "metadata": {},
     "output_type": "execute_result"
    }
   ],
   "source": [
    "df.isnull().sum()"
   ]
  },
  {
   "cell_type": "code",
   "execution_count": 217,
   "metadata": {},
   "outputs": [],
   "source": [
    "df=df.dropna()# drops the all values"
   ]
  },
  {
   "cell_type": "code",
   "execution_count": 218,
   "metadata": {},
   "outputs": [
    {
     "data": {
      "text/plain": [
       "PHYSICIAN        0\n",
       "CroMax_RX        0\n",
       "GlycoMax_RX      0\n",
       "AllergyMax_RX    0\n",
       "FevMax_RX        0\n",
       "ColdMax_RX       0\n",
       "dtype: int64"
      ]
     },
     "execution_count": 218,
     "metadata": {},
     "output_type": "execute_result"
    }
   ],
   "source": [
    "df.isnull().sum()"
   ]
  },
  {
   "cell_type": "code",
   "execution_count": 223,
   "metadata": {},
   "outputs": [],
   "source": []
  },
  {
   "cell_type": "code",
   "execution_count": 224,
   "metadata": {},
   "outputs": [
    {
     "data": {
      "text/html": [
       "<div>\n",
       "<style scoped>\n",
       "    .dataframe tbody tr th:only-of-type {\n",
       "        vertical-align: middle;\n",
       "    }\n",
       "\n",
       "    .dataframe tbody tr th {\n",
       "        vertical-align: top;\n",
       "    }\n",
       "\n",
       "    .dataframe thead th {\n",
       "        text-align: right;\n",
       "    }\n",
       "</style>\n",
       "<table border=\"1\" class=\"dataframe\">\n",
       "  <thead>\n",
       "    <tr style=\"text-align: right;\">\n",
       "      <th></th>\n",
       "      <th>PHYSICIAN</th>\n",
       "      <th>CroMax_RX</th>\n",
       "      <th>GlycoMax_RX</th>\n",
       "      <th>AllergyMax_RX</th>\n",
       "      <th>FevMax_RX</th>\n",
       "      <th>ColdMax_RX</th>\n",
       "    </tr>\n",
       "  </thead>\n",
       "  <tbody>\n",
       "    <tr>\n",
       "      <th>0</th>\n",
       "      <td>AP1912920</td>\n",
       "      <td>0.0</td>\n",
       "      <td>50</td>\n",
       "      <td>510</td>\n",
       "      <td>152</td>\n",
       "      <td>0</td>\n",
       "    </tr>\n",
       "    <tr>\n",
       "      <th>1</th>\n",
       "      <td>AP1350415</td>\n",
       "      <td>2370.0</td>\n",
       "      <td>1320</td>\n",
       "      <td>60</td>\n",
       "      <td>1416</td>\n",
       "      <td>2676</td>\n",
       "    </tr>\n",
       "    <tr>\n",
       "      <th>2</th>\n",
       "      <td>AP0129322</td>\n",
       "      <td>0.0</td>\n",
       "      <td>85</td>\n",
       "      <td>0</td>\n",
       "      <td>0</td>\n",
       "      <td>144</td>\n",
       "    </tr>\n",
       "    <tr>\n",
       "      <th>3</th>\n",
       "      <td>AP0462902</td>\n",
       "      <td>30.0</td>\n",
       "      <td>570</td>\n",
       "      <td>0</td>\n",
       "      <td>128</td>\n",
       "      <td>3900</td>\n",
       "    </tr>\n",
       "    <tr>\n",
       "      <th>4</th>\n",
       "      <td>AP3185026</td>\n",
       "      <td>0.0</td>\n",
       "      <td>40</td>\n",
       "      <td>1080</td>\n",
       "      <td>0</td>\n",
       "      <td>0</td>\n",
       "    </tr>\n",
       "  </tbody>\n",
       "</table>\n",
       "</div>"
      ],
      "text/plain": [
       "   PHYSICIAN  CroMax_RX  GlycoMax_RX  AllergyMax_RX  FevMax_RX  ColdMax_RX\n",
       "0  AP1912920        0.0           50            510        152           0\n",
       "1  AP1350415     2370.0         1320             60       1416        2676\n",
       "2  AP0129322        0.0           85              0          0         144\n",
       "3  AP0462902       30.0          570              0        128        3900\n",
       "4  AP3185026        0.0           40           1080          0           0"
      ]
     },
     "execution_count": 224,
     "metadata": {},
     "output_type": "execute_result"
    }
   ],
   "source": [
    "df.head()"
   ]
  },
  {
   "cell_type": "code",
   "execution_count": 233,
   "metadata": {},
   "outputs": [],
   "source": [
    "df=df.rename(columns = {'PHYSICIAN':'physician'})"
   ]
  },
  {
   "cell_type": "code",
   "execution_count": 234,
   "metadata": {},
   "outputs": [
    {
     "data": {
      "text/html": [
       "<div>\n",
       "<style scoped>\n",
       "    .dataframe tbody tr th:only-of-type {\n",
       "        vertical-align: middle;\n",
       "    }\n",
       "\n",
       "    .dataframe tbody tr th {\n",
       "        vertical-align: top;\n",
       "    }\n",
       "\n",
       "    .dataframe thead th {\n",
       "        text-align: right;\n",
       "    }\n",
       "</style>\n",
       "<table border=\"1\" class=\"dataframe\">\n",
       "  <thead>\n",
       "    <tr style=\"text-align: right;\">\n",
       "      <th></th>\n",
       "      <th>physician</th>\n",
       "      <th>CroMax_RX</th>\n",
       "      <th>GlycoMax_RX</th>\n",
       "      <th>AllergyMax_RX</th>\n",
       "      <th>FevMax_RX</th>\n",
       "      <th>ColdMax_RX</th>\n",
       "    </tr>\n",
       "  </thead>\n",
       "  <tbody>\n",
       "    <tr>\n",
       "      <th>0</th>\n",
       "      <td>AP1912920</td>\n",
       "      <td>0.0</td>\n",
       "      <td>50</td>\n",
       "      <td>510</td>\n",
       "      <td>152</td>\n",
       "      <td>0</td>\n",
       "    </tr>\n",
       "    <tr>\n",
       "      <th>1</th>\n",
       "      <td>AP1350415</td>\n",
       "      <td>2370.0</td>\n",
       "      <td>1320</td>\n",
       "      <td>60</td>\n",
       "      <td>1416</td>\n",
       "      <td>2676</td>\n",
       "    </tr>\n",
       "    <tr>\n",
       "      <th>2</th>\n",
       "      <td>AP0129322</td>\n",
       "      <td>0.0</td>\n",
       "      <td>85</td>\n",
       "      <td>0</td>\n",
       "      <td>0</td>\n",
       "      <td>144</td>\n",
       "    </tr>\n",
       "    <tr>\n",
       "      <th>3</th>\n",
       "      <td>AP0462902</td>\n",
       "      <td>30.0</td>\n",
       "      <td>570</td>\n",
       "      <td>0</td>\n",
       "      <td>128</td>\n",
       "      <td>3900</td>\n",
       "    </tr>\n",
       "    <tr>\n",
       "      <th>4</th>\n",
       "      <td>AP3185026</td>\n",
       "      <td>0.0</td>\n",
       "      <td>40</td>\n",
       "      <td>1080</td>\n",
       "      <td>0</td>\n",
       "      <td>0</td>\n",
       "    </tr>\n",
       "  </tbody>\n",
       "</table>\n",
       "</div>"
      ],
      "text/plain": [
       "   physician  CroMax_RX  GlycoMax_RX  AllergyMax_RX  FevMax_RX  ColdMax_RX\n",
       "0  AP1912920        0.0           50            510        152           0\n",
       "1  AP1350415     2370.0         1320             60       1416        2676\n",
       "2  AP0129322        0.0           85              0          0         144\n",
       "3  AP0462902       30.0          570              0        128        3900\n",
       "4  AP3185026        0.0           40           1080          0           0"
      ]
     },
     "execution_count": 234,
     "metadata": {},
     "output_type": "execute_result"
    }
   ],
   "source": [
    "df.head()"
   ]
  },
  {
   "cell_type": "code",
   "execution_count": 235,
   "metadata": {},
   "outputs": [
    {
     "data": {
      "text/plain": [
       "'hezzo worzd'"
      ]
     },
     "execution_count": 235,
     "metadata": {},
     "output_type": "execute_result"
    }
   ],
   "source": [
    "\"hello world\".replace(\"l\",\"z\")"
   ]
  },
  {
   "cell_type": "code",
   "execution_count": 236,
   "metadata": {},
   "outputs": [],
   "source": [
    "df.columns = df.columns.str.replace(\"_\",\".\")"
   ]
  },
  {
   "cell_type": "code",
   "execution_count": 237,
   "metadata": {},
   "outputs": [
    {
     "data": {
      "text/html": [
       "<div>\n",
       "<style scoped>\n",
       "    .dataframe tbody tr th:only-of-type {\n",
       "        vertical-align: middle;\n",
       "    }\n",
       "\n",
       "    .dataframe tbody tr th {\n",
       "        vertical-align: top;\n",
       "    }\n",
       "\n",
       "    .dataframe thead th {\n",
       "        text-align: right;\n",
       "    }\n",
       "</style>\n",
       "<table border=\"1\" class=\"dataframe\">\n",
       "  <thead>\n",
       "    <tr style=\"text-align: right;\">\n",
       "      <th></th>\n",
       "      <th>physician</th>\n",
       "      <th>CroMax.RX</th>\n",
       "      <th>GlycoMax.RX</th>\n",
       "      <th>AllergyMax.RX</th>\n",
       "      <th>FevMax.RX</th>\n",
       "      <th>ColdMax.RX</th>\n",
       "    </tr>\n",
       "  </thead>\n",
       "  <tbody>\n",
       "    <tr>\n",
       "      <th>0</th>\n",
       "      <td>AP1912920</td>\n",
       "      <td>0.0</td>\n",
       "      <td>50</td>\n",
       "      <td>510</td>\n",
       "      <td>152</td>\n",
       "      <td>0</td>\n",
       "    </tr>\n",
       "    <tr>\n",
       "      <th>1</th>\n",
       "      <td>AP1350415</td>\n",
       "      <td>2370.0</td>\n",
       "      <td>1320</td>\n",
       "      <td>60</td>\n",
       "      <td>1416</td>\n",
       "      <td>2676</td>\n",
       "    </tr>\n",
       "    <tr>\n",
       "      <th>2</th>\n",
       "      <td>AP0129322</td>\n",
       "      <td>0.0</td>\n",
       "      <td>85</td>\n",
       "      <td>0</td>\n",
       "      <td>0</td>\n",
       "      <td>144</td>\n",
       "    </tr>\n",
       "    <tr>\n",
       "      <th>3</th>\n",
       "      <td>AP0462902</td>\n",
       "      <td>30.0</td>\n",
       "      <td>570</td>\n",
       "      <td>0</td>\n",
       "      <td>128</td>\n",
       "      <td>3900</td>\n",
       "    </tr>\n",
       "    <tr>\n",
       "      <th>4</th>\n",
       "      <td>AP3185026</td>\n",
       "      <td>0.0</td>\n",
       "      <td>40</td>\n",
       "      <td>1080</td>\n",
       "      <td>0</td>\n",
       "      <td>0</td>\n",
       "    </tr>\n",
       "  </tbody>\n",
       "</table>\n",
       "</div>"
      ],
      "text/plain": [
       "   physician  CroMax.RX  GlycoMax.RX  AllergyMax.RX  FevMax.RX  ColdMax.RX\n",
       "0  AP1912920        0.0           50            510        152           0\n",
       "1  AP1350415     2370.0         1320             60       1416        2676\n",
       "2  AP0129322        0.0           85              0          0         144\n",
       "3  AP0462902       30.0          570              0        128        3900\n",
       "4  AP3185026        0.0           40           1080          0           0"
      ]
     },
     "execution_count": 237,
     "metadata": {},
     "output_type": "execute_result"
    }
   ],
   "source": [
    "df.head()"
   ]
  },
  {
   "cell_type": "code",
   "execution_count": 238,
   "metadata": {},
   "outputs": [],
   "source": [
    "df[\"physician\"]=df[\"physician\"].str.replace(\"AP\",\"AB\")"
   ]
  },
  {
   "cell_type": "code",
   "execution_count": 239,
   "metadata": {},
   "outputs": [
    {
     "data": {
      "text/html": [
       "<div>\n",
       "<style scoped>\n",
       "    .dataframe tbody tr th:only-of-type {\n",
       "        vertical-align: middle;\n",
       "    }\n",
       "\n",
       "    .dataframe tbody tr th {\n",
       "        vertical-align: top;\n",
       "    }\n",
       "\n",
       "    .dataframe thead th {\n",
       "        text-align: right;\n",
       "    }\n",
       "</style>\n",
       "<table border=\"1\" class=\"dataframe\">\n",
       "  <thead>\n",
       "    <tr style=\"text-align: right;\">\n",
       "      <th></th>\n",
       "      <th>physician</th>\n",
       "      <th>CroMax.RX</th>\n",
       "      <th>GlycoMax.RX</th>\n",
       "      <th>AllergyMax.RX</th>\n",
       "      <th>FevMax.RX</th>\n",
       "      <th>ColdMax.RX</th>\n",
       "    </tr>\n",
       "  </thead>\n",
       "  <tbody>\n",
       "    <tr>\n",
       "      <th>0</th>\n",
       "      <td>AB1912920</td>\n",
       "      <td>0.0</td>\n",
       "      <td>50</td>\n",
       "      <td>510</td>\n",
       "      <td>152</td>\n",
       "      <td>0</td>\n",
       "    </tr>\n",
       "    <tr>\n",
       "      <th>1</th>\n",
       "      <td>AB1350415</td>\n",
       "      <td>2370.0</td>\n",
       "      <td>1320</td>\n",
       "      <td>60</td>\n",
       "      <td>1416</td>\n",
       "      <td>2676</td>\n",
       "    </tr>\n",
       "    <tr>\n",
       "      <th>2</th>\n",
       "      <td>AB0129322</td>\n",
       "      <td>0.0</td>\n",
       "      <td>85</td>\n",
       "      <td>0</td>\n",
       "      <td>0</td>\n",
       "      <td>144</td>\n",
       "    </tr>\n",
       "    <tr>\n",
       "      <th>3</th>\n",
       "      <td>AB0462902</td>\n",
       "      <td>30.0</td>\n",
       "      <td>570</td>\n",
       "      <td>0</td>\n",
       "      <td>128</td>\n",
       "      <td>3900</td>\n",
       "    </tr>\n",
       "    <tr>\n",
       "      <th>4</th>\n",
       "      <td>AB3185026</td>\n",
       "      <td>0.0</td>\n",
       "      <td>40</td>\n",
       "      <td>1080</td>\n",
       "      <td>0</td>\n",
       "      <td>0</td>\n",
       "    </tr>\n",
       "  </tbody>\n",
       "</table>\n",
       "</div>"
      ],
      "text/plain": [
       "   physician  CroMax.RX  GlycoMax.RX  AllergyMax.RX  FevMax.RX  ColdMax.RX\n",
       "0  AB1912920        0.0           50            510        152           0\n",
       "1  AB1350415     2370.0         1320             60       1416        2676\n",
       "2  AB0129322        0.0           85              0          0         144\n",
       "3  AB0462902       30.0          570              0        128        3900\n",
       "4  AB3185026        0.0           40           1080          0           0"
      ]
     },
     "execution_count": 239,
     "metadata": {},
     "output_type": "execute_result"
    }
   ],
   "source": [
    "df.head()"
   ]
  },
  {
   "cell_type": "code",
   "execution_count": 240,
   "metadata": {},
   "outputs": [],
   "source": [
    "df[\"bucket\"] = \"B1\""
   ]
  },
  {
   "cell_type": "code",
   "execution_count": 241,
   "metadata": {},
   "outputs": [
    {
     "data": {
      "text/html": [
       "<div>\n",
       "<style scoped>\n",
       "    .dataframe tbody tr th:only-of-type {\n",
       "        vertical-align: middle;\n",
       "    }\n",
       "\n",
       "    .dataframe tbody tr th {\n",
       "        vertical-align: top;\n",
       "    }\n",
       "\n",
       "    .dataframe thead th {\n",
       "        text-align: right;\n",
       "    }\n",
       "</style>\n",
       "<table border=\"1\" class=\"dataframe\">\n",
       "  <thead>\n",
       "    <tr style=\"text-align: right;\">\n",
       "      <th></th>\n",
       "      <th>physician</th>\n",
       "      <th>CroMax.RX</th>\n",
       "      <th>GlycoMax.RX</th>\n",
       "      <th>AllergyMax.RX</th>\n",
       "      <th>FevMax.RX</th>\n",
       "      <th>ColdMax.RX</th>\n",
       "      <th>bucket</th>\n",
       "    </tr>\n",
       "  </thead>\n",
       "  <tbody>\n",
       "    <tr>\n",
       "      <th>0</th>\n",
       "      <td>AB1912920</td>\n",
       "      <td>0.0</td>\n",
       "      <td>50</td>\n",
       "      <td>510</td>\n",
       "      <td>152</td>\n",
       "      <td>0</td>\n",
       "      <td>B1</td>\n",
       "    </tr>\n",
       "    <tr>\n",
       "      <th>1</th>\n",
       "      <td>AB1350415</td>\n",
       "      <td>2370.0</td>\n",
       "      <td>1320</td>\n",
       "      <td>60</td>\n",
       "      <td>1416</td>\n",
       "      <td>2676</td>\n",
       "      <td>B1</td>\n",
       "    </tr>\n",
       "    <tr>\n",
       "      <th>2</th>\n",
       "      <td>AB0129322</td>\n",
       "      <td>0.0</td>\n",
       "      <td>85</td>\n",
       "      <td>0</td>\n",
       "      <td>0</td>\n",
       "      <td>144</td>\n",
       "      <td>B1</td>\n",
       "    </tr>\n",
       "    <tr>\n",
       "      <th>3</th>\n",
       "      <td>AB0462902</td>\n",
       "      <td>30.0</td>\n",
       "      <td>570</td>\n",
       "      <td>0</td>\n",
       "      <td>128</td>\n",
       "      <td>3900</td>\n",
       "      <td>B1</td>\n",
       "    </tr>\n",
       "    <tr>\n",
       "      <th>4</th>\n",
       "      <td>AB3185026</td>\n",
       "      <td>0.0</td>\n",
       "      <td>40</td>\n",
       "      <td>1080</td>\n",
       "      <td>0</td>\n",
       "      <td>0</td>\n",
       "      <td>B1</td>\n",
       "    </tr>\n",
       "  </tbody>\n",
       "</table>\n",
       "</div>"
      ],
      "text/plain": [
       "   physician  CroMax.RX  GlycoMax.RX  AllergyMax.RX  FevMax.RX  ColdMax.RX  \\\n",
       "0  AB1912920        0.0           50            510        152           0   \n",
       "1  AB1350415     2370.0         1320             60       1416        2676   \n",
       "2  AB0129322        0.0           85              0          0         144   \n",
       "3  AB0462902       30.0          570              0        128        3900   \n",
       "4  AB3185026        0.0           40           1080          0           0   \n",
       "\n",
       "  bucket  \n",
       "0     B1  \n",
       "1     B1  \n",
       "2     B1  \n",
       "3     B1  \n",
       "4     B1  "
      ]
     },
     "execution_count": 241,
     "metadata": {},
     "output_type": "execute_result"
    }
   ],
   "source": [
    "df.head()"
   ]
  },
  {
   "cell_type": "code",
   "execution_count": 250,
   "metadata": {},
   "outputs": [],
   "source": [
    " df.loc[(df[\"CroMax.RX\"]>50)&(df[\"GlycoMax.RX\"]>50),\"bucket\"]=\"B1\"\n",
    "    "
   ]
  },
  {
   "cell_type": "code",
   "execution_count": 251,
   "metadata": {},
   "outputs": [
    {
     "data": {
      "text/html": [
       "<div>\n",
       "<style scoped>\n",
       "    .dataframe tbody tr th:only-of-type {\n",
       "        vertical-align: middle;\n",
       "    }\n",
       "\n",
       "    .dataframe tbody tr th {\n",
       "        vertical-align: top;\n",
       "    }\n",
       "\n",
       "    .dataframe thead th {\n",
       "        text-align: right;\n",
       "    }\n",
       "</style>\n",
       "<table border=\"1\" class=\"dataframe\">\n",
       "  <thead>\n",
       "    <tr style=\"text-align: right;\">\n",
       "      <th></th>\n",
       "      <th>physician</th>\n",
       "      <th>CroMax.RX</th>\n",
       "      <th>GlycoMax.RX</th>\n",
       "      <th>AllergyMax.RX</th>\n",
       "      <th>FevMax.RX</th>\n",
       "      <th>ColdMax.RX</th>\n",
       "      <th>bucket</th>\n",
       "    </tr>\n",
       "  </thead>\n",
       "  <tbody>\n",
       "    <tr>\n",
       "      <th>0</th>\n",
       "      <td>AB1912920</td>\n",
       "      <td>0.0</td>\n",
       "      <td>50</td>\n",
       "      <td>510</td>\n",
       "      <td>152</td>\n",
       "      <td>0</td>\n",
       "      <td>B1</td>\n",
       "    </tr>\n",
       "    <tr>\n",
       "      <th>1</th>\n",
       "      <td>AB1350415</td>\n",
       "      <td>2370.0</td>\n",
       "      <td>1320</td>\n",
       "      <td>60</td>\n",
       "      <td>1416</td>\n",
       "      <td>2676</td>\n",
       "      <td>B1</td>\n",
       "    </tr>\n",
       "    <tr>\n",
       "      <th>2</th>\n",
       "      <td>AB0129322</td>\n",
       "      <td>0.0</td>\n",
       "      <td>85</td>\n",
       "      <td>0</td>\n",
       "      <td>0</td>\n",
       "      <td>144</td>\n",
       "      <td>B1</td>\n",
       "    </tr>\n",
       "    <tr>\n",
       "      <th>3</th>\n",
       "      <td>AB0462902</td>\n",
       "      <td>30.0</td>\n",
       "      <td>570</td>\n",
       "      <td>0</td>\n",
       "      <td>128</td>\n",
       "      <td>3900</td>\n",
       "      <td>B1</td>\n",
       "    </tr>\n",
       "    <tr>\n",
       "      <th>4</th>\n",
       "      <td>AB3185026</td>\n",
       "      <td>0.0</td>\n",
       "      <td>40</td>\n",
       "      <td>1080</td>\n",
       "      <td>0</td>\n",
       "      <td>0</td>\n",
       "      <td>B1</td>\n",
       "    </tr>\n",
       "  </tbody>\n",
       "</table>\n",
       "</div>"
      ],
      "text/plain": [
       "   physician  CroMax.RX  GlycoMax.RX  AllergyMax.RX  FevMax.RX  ColdMax.RX  \\\n",
       "0  AB1912920        0.0           50            510        152           0   \n",
       "1  AB1350415     2370.0         1320             60       1416        2676   \n",
       "2  AB0129322        0.0           85              0          0         144   \n",
       "3  AB0462902       30.0          570              0        128        3900   \n",
       "4  AB3185026        0.0           40           1080          0           0   \n",
       "\n",
       "  bucket  \n",
       "0     B1  \n",
       "1     B1  \n",
       "2     B1  \n",
       "3     B1  \n",
       "4     B1  "
      ]
     },
     "execution_count": 251,
     "metadata": {},
     "output_type": "execute_result"
    }
   ],
   "source": [
    "df.head()"
   ]
  },
  {
   "cell_type": "code",
   "execution_count": 252,
   "metadata": {},
   "outputs": [],
   "source": [
    "df.loc[(df[\"CroMax.RX\"]<50)&(df[\"GlycoMax.RX\"]<50),\"bucket\"]=\"B2\""
   ]
  },
  {
   "cell_type": "code",
   "execution_count": 253,
   "metadata": {},
   "outputs": [
    {
     "data": {
      "text/html": [
       "<div>\n",
       "<style scoped>\n",
       "    .dataframe tbody tr th:only-of-type {\n",
       "        vertical-align: middle;\n",
       "    }\n",
       "\n",
       "    .dataframe tbody tr th {\n",
       "        vertical-align: top;\n",
       "    }\n",
       "\n",
       "    .dataframe thead th {\n",
       "        text-align: right;\n",
       "    }\n",
       "</style>\n",
       "<table border=\"1\" class=\"dataframe\">\n",
       "  <thead>\n",
       "    <tr style=\"text-align: right;\">\n",
       "      <th></th>\n",
       "      <th>physician</th>\n",
       "      <th>CroMax.RX</th>\n",
       "      <th>GlycoMax.RX</th>\n",
       "      <th>AllergyMax.RX</th>\n",
       "      <th>FevMax.RX</th>\n",
       "      <th>ColdMax.RX</th>\n",
       "      <th>bucket</th>\n",
       "    </tr>\n",
       "  </thead>\n",
       "  <tbody>\n",
       "    <tr>\n",
       "      <th>0</th>\n",
       "      <td>AB1912920</td>\n",
       "      <td>0.0</td>\n",
       "      <td>50</td>\n",
       "      <td>510</td>\n",
       "      <td>152</td>\n",
       "      <td>0</td>\n",
       "      <td>B1</td>\n",
       "    </tr>\n",
       "    <tr>\n",
       "      <th>1</th>\n",
       "      <td>AB1350415</td>\n",
       "      <td>2370.0</td>\n",
       "      <td>1320</td>\n",
       "      <td>60</td>\n",
       "      <td>1416</td>\n",
       "      <td>2676</td>\n",
       "      <td>B1</td>\n",
       "    </tr>\n",
       "    <tr>\n",
       "      <th>2</th>\n",
       "      <td>AB0129322</td>\n",
       "      <td>0.0</td>\n",
       "      <td>85</td>\n",
       "      <td>0</td>\n",
       "      <td>0</td>\n",
       "      <td>144</td>\n",
       "      <td>B1</td>\n",
       "    </tr>\n",
       "    <tr>\n",
       "      <th>3</th>\n",
       "      <td>AB0462902</td>\n",
       "      <td>30.0</td>\n",
       "      <td>570</td>\n",
       "      <td>0</td>\n",
       "      <td>128</td>\n",
       "      <td>3900</td>\n",
       "      <td>B1</td>\n",
       "    </tr>\n",
       "    <tr>\n",
       "      <th>4</th>\n",
       "      <td>AB3185026</td>\n",
       "      <td>0.0</td>\n",
       "      <td>40</td>\n",
       "      <td>1080</td>\n",
       "      <td>0</td>\n",
       "      <td>0</td>\n",
       "      <td>B2</td>\n",
       "    </tr>\n",
       "  </tbody>\n",
       "</table>\n",
       "</div>"
      ],
      "text/plain": [
       "   physician  CroMax.RX  GlycoMax.RX  AllergyMax.RX  FevMax.RX  ColdMax.RX  \\\n",
       "0  AB1912920        0.0           50            510        152           0   \n",
       "1  AB1350415     2370.0         1320             60       1416        2676   \n",
       "2  AB0129322        0.0           85              0          0         144   \n",
       "3  AB0462902       30.0          570              0        128        3900   \n",
       "4  AB3185026        0.0           40           1080          0           0   \n",
       "\n",
       "  bucket  \n",
       "0     B1  \n",
       "1     B1  \n",
       "2     B1  \n",
       "3     B1  \n",
       "4     B2  "
      ]
     },
     "execution_count": 253,
     "metadata": {},
     "output_type": "execute_result"
    }
   ],
   "source": [
    "df.head()"
   ]
  },
  {
   "cell_type": "code",
   "execution_count": 255,
   "metadata": {},
   "outputs": [],
   "source": [
    "df[\"new_physician\"]=df[\"bucket\"]+\"_\"+df[\"physician\"]"
   ]
  },
  {
   "cell_type": "code",
   "execution_count": 256,
   "metadata": {},
   "outputs": [
    {
     "data": {
      "text/html": [
       "<div>\n",
       "<style scoped>\n",
       "    .dataframe tbody tr th:only-of-type {\n",
       "        vertical-align: middle;\n",
       "    }\n",
       "\n",
       "    .dataframe tbody tr th {\n",
       "        vertical-align: top;\n",
       "    }\n",
       "\n",
       "    .dataframe thead th {\n",
       "        text-align: right;\n",
       "    }\n",
       "</style>\n",
       "<table border=\"1\" class=\"dataframe\">\n",
       "  <thead>\n",
       "    <tr style=\"text-align: right;\">\n",
       "      <th></th>\n",
       "      <th>physician</th>\n",
       "      <th>CroMax.RX</th>\n",
       "      <th>GlycoMax.RX</th>\n",
       "      <th>AllergyMax.RX</th>\n",
       "      <th>FevMax.RX</th>\n",
       "      <th>ColdMax.RX</th>\n",
       "      <th>bucket</th>\n",
       "      <th>new_physician</th>\n",
       "    </tr>\n",
       "  </thead>\n",
       "  <tbody>\n",
       "    <tr>\n",
       "      <th>0</th>\n",
       "      <td>AB1912920</td>\n",
       "      <td>0.0</td>\n",
       "      <td>50</td>\n",
       "      <td>510</td>\n",
       "      <td>152</td>\n",
       "      <td>0</td>\n",
       "      <td>B1</td>\n",
       "      <td>B1_AB1912920</td>\n",
       "    </tr>\n",
       "    <tr>\n",
       "      <th>1</th>\n",
       "      <td>AB1350415</td>\n",
       "      <td>2370.0</td>\n",
       "      <td>1320</td>\n",
       "      <td>60</td>\n",
       "      <td>1416</td>\n",
       "      <td>2676</td>\n",
       "      <td>B1</td>\n",
       "      <td>B1_AB1350415</td>\n",
       "    </tr>\n",
       "    <tr>\n",
       "      <th>2</th>\n",
       "      <td>AB0129322</td>\n",
       "      <td>0.0</td>\n",
       "      <td>85</td>\n",
       "      <td>0</td>\n",
       "      <td>0</td>\n",
       "      <td>144</td>\n",
       "      <td>B1</td>\n",
       "      <td>B1_AB0129322</td>\n",
       "    </tr>\n",
       "    <tr>\n",
       "      <th>3</th>\n",
       "      <td>AB0462902</td>\n",
       "      <td>30.0</td>\n",
       "      <td>570</td>\n",
       "      <td>0</td>\n",
       "      <td>128</td>\n",
       "      <td>3900</td>\n",
       "      <td>B1</td>\n",
       "      <td>B1_AB0462902</td>\n",
       "    </tr>\n",
       "    <tr>\n",
       "      <th>4</th>\n",
       "      <td>AB3185026</td>\n",
       "      <td>0.0</td>\n",
       "      <td>40</td>\n",
       "      <td>1080</td>\n",
       "      <td>0</td>\n",
       "      <td>0</td>\n",
       "      <td>B2</td>\n",
       "      <td>B2_AB3185026</td>\n",
       "    </tr>\n",
       "  </tbody>\n",
       "</table>\n",
       "</div>"
      ],
      "text/plain": [
       "   physician  CroMax.RX  GlycoMax.RX  AllergyMax.RX  FevMax.RX  ColdMax.RX  \\\n",
       "0  AB1912920        0.0           50            510        152           0   \n",
       "1  AB1350415     2370.0         1320             60       1416        2676   \n",
       "2  AB0129322        0.0           85              0          0         144   \n",
       "3  AB0462902       30.0          570              0        128        3900   \n",
       "4  AB3185026        0.0           40           1080          0           0   \n",
       "\n",
       "  bucket new_physician  \n",
       "0     B1  B1_AB1912920  \n",
       "1     B1  B1_AB1350415  \n",
       "2     B1  B1_AB0129322  \n",
       "3     B1  B1_AB0462902  \n",
       "4     B2  B2_AB3185026  "
      ]
     },
     "execution_count": 256,
     "metadata": {},
     "output_type": "execute_result"
    }
   ],
   "source": [
    "df.head()"
   ]
  },
  {
   "cell_type": "code",
   "execution_count": 257,
   "metadata": {},
   "outputs": [
    {
     "data": {
      "text/plain": [
       "<bound method Series.drop of 0     AB1912920\n",
       "1     AB1350415\n",
       "2     AB0129322\n",
       "3     AB0462902\n",
       "4     AB3185026\n",
       "5     AB3674571\n",
       "6     AB0126982\n",
       "8     AB1807651\n",
       "9     AB0728371\n",
       "10    AB1934892\n",
       "11    AB1595288\n",
       "12    AB1883103\n",
       "13    AB1365782\n",
       "15    AB2443797\n",
       "16    AB0036951\n",
       "17    AB3200230\n",
       "18    AB0139724\n",
       "19    AB2166075\n",
       "21    AB1332969\n",
       "22    AB2130355\n",
       "23    AB0714887\n",
       "24    AB2214740\n",
       "25    AB0857188\n",
       "27    AB1874350\n",
       "28    AB3209293\n",
       "29    AB0089696\n",
       "30    AB0481633\n",
       "31    AB0692473\n",
       "32    AB0406810\n",
       "33    AB0464297\n",
       "        ...    \n",
       "70    AB0683877\n",
       "71    AB0118925\n",
       "72    AB2152296\n",
       "73    AB1343639\n",
       "74    AB1869077\n",
       "75    AB2196115\n",
       "76    AB1230067\n",
       "77    AB2014650\n",
       "78    AB2281620\n",
       "79    AB1336198\n",
       "80    AB0849708\n",
       "81    AB2113896\n",
       "82    AB1834639\n",
       "83    AB0455565\n",
       "84    AB0849030\n",
       "85    AB0478796\n",
       "86    AB3589376\n",
       "87    AB2459335\n",
       "88    AB0812453\n",
       "89    AB0433841\n",
       "90    AB1947403\n",
       "91    AB0189854\n",
       "92    AB3883979\n",
       "93    AB0390218\n",
       "94    AB2286280\n",
       "95    AB1957774\n",
       "96    AB1273998\n",
       "97    AB1228990\n",
       "98    AB1881803\n",
       "99    AB4772804\n",
       "Name: physician, Length: 96, dtype: object>"
      ]
     },
     "execution_count": 257,
     "metadata": {},
     "output_type": "execute_result"
    }
   ],
   "source": [
    "df[\"physician\"].drop"
   ]
  },
  {
   "cell_type": "code",
   "execution_count": 258,
   "metadata": {},
   "outputs": [
    {
     "data": {
      "text/html": [
       "<div>\n",
       "<style scoped>\n",
       "    .dataframe tbody tr th:only-of-type {\n",
       "        vertical-align: middle;\n",
       "    }\n",
       "\n",
       "    .dataframe tbody tr th {\n",
       "        vertical-align: top;\n",
       "    }\n",
       "\n",
       "    .dataframe thead th {\n",
       "        text-align: right;\n",
       "    }\n",
       "</style>\n",
       "<table border=\"1\" class=\"dataframe\">\n",
       "  <thead>\n",
       "    <tr style=\"text-align: right;\">\n",
       "      <th></th>\n",
       "      <th>physician</th>\n",
       "      <th>CroMax.RX</th>\n",
       "      <th>GlycoMax.RX</th>\n",
       "      <th>AllergyMax.RX</th>\n",
       "      <th>FevMax.RX</th>\n",
       "      <th>ColdMax.RX</th>\n",
       "      <th>bucket</th>\n",
       "      <th>new_physician</th>\n",
       "    </tr>\n",
       "  </thead>\n",
       "  <tbody>\n",
       "    <tr>\n",
       "      <th>0</th>\n",
       "      <td>AB1912920</td>\n",
       "      <td>0.0</td>\n",
       "      <td>50</td>\n",
       "      <td>510</td>\n",
       "      <td>152</td>\n",
       "      <td>0</td>\n",
       "      <td>B1</td>\n",
       "      <td>B1_AB1912920</td>\n",
       "    </tr>\n",
       "    <tr>\n",
       "      <th>1</th>\n",
       "      <td>AB1350415</td>\n",
       "      <td>2370.0</td>\n",
       "      <td>1320</td>\n",
       "      <td>60</td>\n",
       "      <td>1416</td>\n",
       "      <td>2676</td>\n",
       "      <td>B1</td>\n",
       "      <td>B1_AB1350415</td>\n",
       "    </tr>\n",
       "    <tr>\n",
       "      <th>2</th>\n",
       "      <td>AB0129322</td>\n",
       "      <td>0.0</td>\n",
       "      <td>85</td>\n",
       "      <td>0</td>\n",
       "      <td>0</td>\n",
       "      <td>144</td>\n",
       "      <td>B1</td>\n",
       "      <td>B1_AB0129322</td>\n",
       "    </tr>\n",
       "    <tr>\n",
       "      <th>3</th>\n",
       "      <td>AB0462902</td>\n",
       "      <td>30.0</td>\n",
       "      <td>570</td>\n",
       "      <td>0</td>\n",
       "      <td>128</td>\n",
       "      <td>3900</td>\n",
       "      <td>B1</td>\n",
       "      <td>B1_AB0462902</td>\n",
       "    </tr>\n",
       "    <tr>\n",
       "      <th>4</th>\n",
       "      <td>AB3185026</td>\n",
       "      <td>0.0</td>\n",
       "      <td>40</td>\n",
       "      <td>1080</td>\n",
       "      <td>0</td>\n",
       "      <td>0</td>\n",
       "      <td>B2</td>\n",
       "      <td>B2_AB3185026</td>\n",
       "    </tr>\n",
       "  </tbody>\n",
       "</table>\n",
       "</div>"
      ],
      "text/plain": [
       "   physician  CroMax.RX  GlycoMax.RX  AllergyMax.RX  FevMax.RX  ColdMax.RX  \\\n",
       "0  AB1912920        0.0           50            510        152           0   \n",
       "1  AB1350415     2370.0         1320             60       1416        2676   \n",
       "2  AB0129322        0.0           85              0          0         144   \n",
       "3  AB0462902       30.0          570              0        128        3900   \n",
       "4  AB3185026        0.0           40           1080          0           0   \n",
       "\n",
       "  bucket new_physician  \n",
       "0     B1  B1_AB1912920  \n",
       "1     B1  B1_AB1350415  \n",
       "2     B1  B1_AB0129322  \n",
       "3     B1  B1_AB0462902  \n",
       "4     B2  B2_AB3185026  "
      ]
     },
     "execution_count": 258,
     "metadata": {},
     "output_type": "execute_result"
    }
   ],
   "source": [
    "df.head()"
   ]
  },
  {
   "cell_type": "code",
   "execution_count": 260,
   "metadata": {},
   "outputs": [
    {
     "ename": "KeyError",
     "evalue": "'physician'",
     "output_type": "error",
     "traceback": [
      "\u001b[1;31m---------------------------------------------------------------------------\u001b[0m",
      "\u001b[1;31mKeyError\u001b[0m                                  Traceback (most recent call last)",
      "\u001b[1;32m~\\Anaconda3\\lib\\site-packages\\pandas\\core\\indexes\\base.py\u001b[0m in \u001b[0;36mget_loc\u001b[1;34m(self, key, method, tolerance)\u001b[0m\n\u001b[0;32m   3077\u001b[0m             \u001b[1;32mtry\u001b[0m\u001b[1;33m:\u001b[0m\u001b[1;33m\u001b[0m\u001b[0m\n\u001b[1;32m-> 3078\u001b[1;33m                 \u001b[1;32mreturn\u001b[0m \u001b[0mself\u001b[0m\u001b[1;33m.\u001b[0m\u001b[0m_engine\u001b[0m\u001b[1;33m.\u001b[0m\u001b[0mget_loc\u001b[0m\u001b[1;33m(\u001b[0m\u001b[0mkey\u001b[0m\u001b[1;33m)\u001b[0m\u001b[1;33m\u001b[0m\u001b[0m\n\u001b[0m\u001b[0;32m   3079\u001b[0m             \u001b[1;32mexcept\u001b[0m \u001b[0mKeyError\u001b[0m\u001b[1;33m:\u001b[0m\u001b[1;33m\u001b[0m\u001b[0m\n",
      "\u001b[1;32mpandas\\_libs\\index.pyx\u001b[0m in \u001b[0;36mpandas._libs.index.IndexEngine.get_loc\u001b[1;34m()\u001b[0m\n",
      "\u001b[1;32mpandas\\_libs\\index.pyx\u001b[0m in \u001b[0;36mpandas._libs.index.IndexEngine.get_loc\u001b[1;34m()\u001b[0m\n",
      "\u001b[1;32mpandas\\_libs\\hashtable_class_helper.pxi\u001b[0m in \u001b[0;36mpandas._libs.hashtable.PyObjectHashTable.get_item\u001b[1;34m()\u001b[0m\n",
      "\u001b[1;32mpandas\\_libs\\hashtable_class_helper.pxi\u001b[0m in \u001b[0;36mpandas._libs.hashtable.PyObjectHashTable.get_item\u001b[1;34m()\u001b[0m\n",
      "\u001b[1;31mKeyError\u001b[0m: 'physician'",
      "\nDuring handling of the above exception, another exception occurred:\n",
      "\u001b[1;31mKeyError\u001b[0m                                  Traceback (most recent call last)",
      "\u001b[1;32m<ipython-input-260-b9327601933c>\u001b[0m in \u001b[0;36m<module>\u001b[1;34m()\u001b[0m\n\u001b[1;32m----> 1\u001b[1;33m \u001b[1;32mdel\u001b[0m \u001b[0mdf\u001b[0m\u001b[1;33m[\u001b[0m\u001b[1;34m\"physician\"\u001b[0m\u001b[1;33m]\u001b[0m\u001b[1;33m\u001b[0m\u001b[0m\n\u001b[0m",
      "\u001b[1;32m~\\Anaconda3\\lib\\site-packages\\pandas\\core\\generic.py\u001b[0m in \u001b[0;36m__delitem__\u001b[1;34m(self, key)\u001b[0m\n\u001b[0;32m   2741\u001b[0m             \u001b[1;31m# there was no match, this call should raise the appropriate\u001b[0m\u001b[1;33m\u001b[0m\u001b[1;33m\u001b[0m\u001b[0m\n\u001b[0;32m   2742\u001b[0m             \u001b[1;31m# exception:\u001b[0m\u001b[1;33m\u001b[0m\u001b[1;33m\u001b[0m\u001b[0m\n\u001b[1;32m-> 2743\u001b[1;33m             \u001b[0mself\u001b[0m\u001b[1;33m.\u001b[0m\u001b[0m_data\u001b[0m\u001b[1;33m.\u001b[0m\u001b[0mdelete\u001b[0m\u001b[1;33m(\u001b[0m\u001b[0mkey\u001b[0m\u001b[1;33m)\u001b[0m\u001b[1;33m\u001b[0m\u001b[0m\n\u001b[0m\u001b[0;32m   2744\u001b[0m \u001b[1;33m\u001b[0m\u001b[0m\n\u001b[0;32m   2745\u001b[0m         \u001b[1;31m# delete from the caches\u001b[0m\u001b[1;33m\u001b[0m\u001b[1;33m\u001b[0m\u001b[0m\n",
      "\u001b[1;32m~\\Anaconda3\\lib\\site-packages\\pandas\\core\\internals.py\u001b[0m in \u001b[0;36mdelete\u001b[1;34m(self, item)\u001b[0m\n\u001b[0;32m   4172\u001b[0m         \u001b[0mDelete\u001b[0m \u001b[0mselected\u001b[0m \u001b[0mitem\u001b[0m \u001b[1;33m(\u001b[0m\u001b[0mitems\u001b[0m \u001b[1;32mif\u001b[0m \u001b[0mnon\u001b[0m\u001b[1;33m-\u001b[0m\u001b[0munique\u001b[0m\u001b[1;33m)\u001b[0m \u001b[1;32min\u001b[0m\u001b[1;33m-\u001b[0m\u001b[0mplace\u001b[0m\u001b[1;33m.\u001b[0m\u001b[1;33m\u001b[0m\u001b[0m\n\u001b[0;32m   4173\u001b[0m         \"\"\"\n\u001b[1;32m-> 4174\u001b[1;33m         \u001b[0mindexer\u001b[0m \u001b[1;33m=\u001b[0m \u001b[0mself\u001b[0m\u001b[1;33m.\u001b[0m\u001b[0mitems\u001b[0m\u001b[1;33m.\u001b[0m\u001b[0mget_loc\u001b[0m\u001b[1;33m(\u001b[0m\u001b[0mitem\u001b[0m\u001b[1;33m)\u001b[0m\u001b[1;33m\u001b[0m\u001b[0m\n\u001b[0m\u001b[0;32m   4175\u001b[0m \u001b[1;33m\u001b[0m\u001b[0m\n\u001b[0;32m   4176\u001b[0m         \u001b[0mis_deleted\u001b[0m \u001b[1;33m=\u001b[0m \u001b[0mnp\u001b[0m\u001b[1;33m.\u001b[0m\u001b[0mzeros\u001b[0m\u001b[1;33m(\u001b[0m\u001b[0mself\u001b[0m\u001b[1;33m.\u001b[0m\u001b[0mshape\u001b[0m\u001b[1;33m[\u001b[0m\u001b[1;36m0\u001b[0m\u001b[1;33m]\u001b[0m\u001b[1;33m,\u001b[0m \u001b[0mdtype\u001b[0m\u001b[1;33m=\u001b[0m\u001b[0mnp\u001b[0m\u001b[1;33m.\u001b[0m\u001b[0mbool_\u001b[0m\u001b[1;33m)\u001b[0m\u001b[1;33m\u001b[0m\u001b[0m\n",
      "\u001b[1;32m~\\Anaconda3\\lib\\site-packages\\pandas\\core\\indexes\\base.py\u001b[0m in \u001b[0;36mget_loc\u001b[1;34m(self, key, method, tolerance)\u001b[0m\n\u001b[0;32m   3078\u001b[0m                 \u001b[1;32mreturn\u001b[0m \u001b[0mself\u001b[0m\u001b[1;33m.\u001b[0m\u001b[0m_engine\u001b[0m\u001b[1;33m.\u001b[0m\u001b[0mget_loc\u001b[0m\u001b[1;33m(\u001b[0m\u001b[0mkey\u001b[0m\u001b[1;33m)\u001b[0m\u001b[1;33m\u001b[0m\u001b[0m\n\u001b[0;32m   3079\u001b[0m             \u001b[1;32mexcept\u001b[0m \u001b[0mKeyError\u001b[0m\u001b[1;33m:\u001b[0m\u001b[1;33m\u001b[0m\u001b[0m\n\u001b[1;32m-> 3080\u001b[1;33m                 \u001b[1;32mreturn\u001b[0m \u001b[0mself\u001b[0m\u001b[1;33m.\u001b[0m\u001b[0m_engine\u001b[0m\u001b[1;33m.\u001b[0m\u001b[0mget_loc\u001b[0m\u001b[1;33m(\u001b[0m\u001b[0mself\u001b[0m\u001b[1;33m.\u001b[0m\u001b[0m_maybe_cast_indexer\u001b[0m\u001b[1;33m(\u001b[0m\u001b[0mkey\u001b[0m\u001b[1;33m)\u001b[0m\u001b[1;33m)\u001b[0m\u001b[1;33m\u001b[0m\u001b[0m\n\u001b[0m\u001b[0;32m   3081\u001b[0m \u001b[1;33m\u001b[0m\u001b[0m\n\u001b[0;32m   3082\u001b[0m         \u001b[0mindexer\u001b[0m \u001b[1;33m=\u001b[0m \u001b[0mself\u001b[0m\u001b[1;33m.\u001b[0m\u001b[0mget_indexer\u001b[0m\u001b[1;33m(\u001b[0m\u001b[1;33m[\u001b[0m\u001b[0mkey\u001b[0m\u001b[1;33m]\u001b[0m\u001b[1;33m,\u001b[0m \u001b[0mmethod\u001b[0m\u001b[1;33m=\u001b[0m\u001b[0mmethod\u001b[0m\u001b[1;33m,\u001b[0m \u001b[0mtolerance\u001b[0m\u001b[1;33m=\u001b[0m\u001b[0mtolerance\u001b[0m\u001b[1;33m)\u001b[0m\u001b[1;33m\u001b[0m\u001b[0m\n",
      "\u001b[1;32mpandas\\_libs\\index.pyx\u001b[0m in \u001b[0;36mpandas._libs.index.IndexEngine.get_loc\u001b[1;34m()\u001b[0m\n",
      "\u001b[1;32mpandas\\_libs\\index.pyx\u001b[0m in \u001b[0;36mpandas._libs.index.IndexEngine.get_loc\u001b[1;34m()\u001b[0m\n",
      "\u001b[1;32mpandas\\_libs\\hashtable_class_helper.pxi\u001b[0m in \u001b[0;36mpandas._libs.hashtable.PyObjectHashTable.get_item\u001b[1;34m()\u001b[0m\n",
      "\u001b[1;32mpandas\\_libs\\hashtable_class_helper.pxi\u001b[0m in \u001b[0;36mpandas._libs.hashtable.PyObjectHashTable.get_item\u001b[1;34m()\u001b[0m\n",
      "\u001b[1;31mKeyError\u001b[0m: 'physician'"
     ]
    }
   ],
   "source": [
    "del df[\"physician\"]"
   ]
  },
  {
   "cell_type": "code",
   "execution_count": 261,
   "metadata": {},
   "outputs": [
    {
     "data": {
      "text/html": [
       "<div>\n",
       "<style scoped>\n",
       "    .dataframe tbody tr th:only-of-type {\n",
       "        vertical-align: middle;\n",
       "    }\n",
       "\n",
       "    .dataframe tbody tr th {\n",
       "        vertical-align: top;\n",
       "    }\n",
       "\n",
       "    .dataframe thead th {\n",
       "        text-align: right;\n",
       "    }\n",
       "</style>\n",
       "<table border=\"1\" class=\"dataframe\">\n",
       "  <thead>\n",
       "    <tr style=\"text-align: right;\">\n",
       "      <th></th>\n",
       "      <th>CroMax.RX</th>\n",
       "      <th>GlycoMax.RX</th>\n",
       "      <th>AllergyMax.RX</th>\n",
       "      <th>FevMax.RX</th>\n",
       "      <th>ColdMax.RX</th>\n",
       "      <th>bucket</th>\n",
       "      <th>new_physician</th>\n",
       "    </tr>\n",
       "  </thead>\n",
       "  <tbody>\n",
       "    <tr>\n",
       "      <th>0</th>\n",
       "      <td>0.0</td>\n",
       "      <td>50</td>\n",
       "      <td>510</td>\n",
       "      <td>152</td>\n",
       "      <td>0</td>\n",
       "      <td>B1</td>\n",
       "      <td>B1_AB1912920</td>\n",
       "    </tr>\n",
       "    <tr>\n",
       "      <th>1</th>\n",
       "      <td>2370.0</td>\n",
       "      <td>1320</td>\n",
       "      <td>60</td>\n",
       "      <td>1416</td>\n",
       "      <td>2676</td>\n",
       "      <td>B1</td>\n",
       "      <td>B1_AB1350415</td>\n",
       "    </tr>\n",
       "    <tr>\n",
       "      <th>2</th>\n",
       "      <td>0.0</td>\n",
       "      <td>85</td>\n",
       "      <td>0</td>\n",
       "      <td>0</td>\n",
       "      <td>144</td>\n",
       "      <td>B1</td>\n",
       "      <td>B1_AB0129322</td>\n",
       "    </tr>\n",
       "    <tr>\n",
       "      <th>3</th>\n",
       "      <td>30.0</td>\n",
       "      <td>570</td>\n",
       "      <td>0</td>\n",
       "      <td>128</td>\n",
       "      <td>3900</td>\n",
       "      <td>B1</td>\n",
       "      <td>B1_AB0462902</td>\n",
       "    </tr>\n",
       "    <tr>\n",
       "      <th>4</th>\n",
       "      <td>0.0</td>\n",
       "      <td>40</td>\n",
       "      <td>1080</td>\n",
       "      <td>0</td>\n",
       "      <td>0</td>\n",
       "      <td>B2</td>\n",
       "      <td>B2_AB3185026</td>\n",
       "    </tr>\n",
       "  </tbody>\n",
       "</table>\n",
       "</div>"
      ],
      "text/plain": [
       "   CroMax.RX  GlycoMax.RX  AllergyMax.RX  FevMax.RX  ColdMax.RX bucket  \\\n",
       "0        0.0           50            510        152           0     B1   \n",
       "1     2370.0         1320             60       1416        2676     B1   \n",
       "2        0.0           85              0          0         144     B1   \n",
       "3       30.0          570              0        128        3900     B1   \n",
       "4        0.0           40           1080          0           0     B2   \n",
       "\n",
       "  new_physician  \n",
       "0  B1_AB1912920  \n",
       "1  B1_AB1350415  \n",
       "2  B1_AB0129322  \n",
       "3  B1_AB0462902  \n",
       "4  B2_AB3185026  "
      ]
     },
     "execution_count": 261,
     "metadata": {},
     "output_type": "execute_result"
    }
   ],
   "source": [
    "df.head()"
   ]
  },
  {
   "cell_type": "code",
   "execution_count": 262,
   "metadata": {},
   "outputs": [],
   "source": [
    "#df=df[['new_physician' write the column names in order to display]"
   ]
  },
  {
   "cell_type": "code",
   "execution_count": 263,
   "metadata": {},
   "outputs": [
    {
     "data": {
      "text/plain": [
       "['hello', 'world']"
      ]
     },
     "execution_count": 263,
     "metadata": {},
     "output_type": "execute_result"
    }
   ],
   "source": [
    "\"hello_world\".split(\"_\")"
   ]
  },
  {
   "cell_type": "code",
   "execution_count": 264,
   "metadata": {},
   "outputs": [
    {
     "data": {
      "text/plain": [
       "0     [B1, AB1912920]\n",
       "1     [B1, AB1350415]\n",
       "2     [B1, AB0129322]\n",
       "3     [B1, AB0462902]\n",
       "4     [B2, AB3185026]\n",
       "5     [B1, AB3674571]\n",
       "6     [B1, AB0126982]\n",
       "8     [B1, AB1807651]\n",
       "9     [B2, AB0728371]\n",
       "10    [B1, AB1934892]\n",
       "11    [B1, AB1595288]\n",
       "12    [B1, AB1883103]\n",
       "13    [B1, AB1365782]\n",
       "15    [B2, AB2443797]\n",
       "16    [B1, AB0036951]\n",
       "17    [B1, AB3200230]\n",
       "18    [B1, AB0139724]\n",
       "19    [B1, AB2166075]\n",
       "21    [B1, AB1332969]\n",
       "22    [B1, AB2130355]\n",
       "23    [B1, AB0714887]\n",
       "24    [B1, AB2214740]\n",
       "25    [B1, AB0857188]\n",
       "27    [B2, AB1874350]\n",
       "28    [B1, AB3209293]\n",
       "29    [B1, AB0089696]\n",
       "30    [B1, AB0481633]\n",
       "31    [B1, AB0692473]\n",
       "32    [B1, AB0406810]\n",
       "33    [B1, AB0464297]\n",
       "           ...       \n",
       "70    [B1, AB0683877]\n",
       "71    [B1, AB0118925]\n",
       "72    [B2, AB2152296]\n",
       "73    [B2, AB1343639]\n",
       "74    [B1, AB1869077]\n",
       "75    [B2, AB2196115]\n",
       "76    [B1, AB1230067]\n",
       "77    [B1, AB2014650]\n",
       "78    [B1, AB2281620]\n",
       "79    [B1, AB1336198]\n",
       "80    [B1, AB0849708]\n",
       "81    [B2, AB2113896]\n",
       "82    [B1, AB1834639]\n",
       "83    [B1, AB0455565]\n",
       "84    [B1, AB0849030]\n",
       "85    [B1, AB0478796]\n",
       "86    [B1, AB3589376]\n",
       "87    [B1, AB2459335]\n",
       "88    [B2, AB0812453]\n",
       "89    [B1, AB0433841]\n",
       "90    [B1, AB1947403]\n",
       "91    [B1, AB0189854]\n",
       "92    [B1, AB3883979]\n",
       "93    [B1, AB0390218]\n",
       "94    [B2, AB2286280]\n",
       "95    [B1, AB1957774]\n",
       "96    [B1, AB1273998]\n",
       "97    [B2, AB1228990]\n",
       "98    [B2, AB1881803]\n",
       "99    [B2, AB4772804]\n",
       "Name: new_physician, Length: 96, dtype: object"
      ]
     },
     "execution_count": 264,
     "metadata": {},
     "output_type": "execute_result"
    }
   ],
   "source": [
    "df[\"new_physician\"].str.split(\"_\")"
   ]
  },
  {
   "cell_type": "code",
   "execution_count": 266,
   "metadata": {},
   "outputs": [],
   "source": [
    "df[\"physician\"] = df[\"new_physician\"].str.split(\"_\").str[1]\n",
    "df[\"bucket\"] = df[\"new_physician\"].str.split(\"_\").str[0]"
   ]
  },
  {
   "cell_type": "code",
   "execution_count": 267,
   "metadata": {},
   "outputs": [
    {
     "data": {
      "text/html": [
       "<div>\n",
       "<style scoped>\n",
       "    .dataframe tbody tr th:only-of-type {\n",
       "        vertical-align: middle;\n",
       "    }\n",
       "\n",
       "    .dataframe tbody tr th {\n",
       "        vertical-align: top;\n",
       "    }\n",
       "\n",
       "    .dataframe thead th {\n",
       "        text-align: right;\n",
       "    }\n",
       "</style>\n",
       "<table border=\"1\" class=\"dataframe\">\n",
       "  <thead>\n",
       "    <tr style=\"text-align: right;\">\n",
       "      <th></th>\n",
       "      <th>CroMax.RX</th>\n",
       "      <th>GlycoMax.RX</th>\n",
       "      <th>AllergyMax.RX</th>\n",
       "      <th>FevMax.RX</th>\n",
       "      <th>ColdMax.RX</th>\n",
       "      <th>bucket</th>\n",
       "      <th>new_physician</th>\n",
       "      <th>physician</th>\n",
       "    </tr>\n",
       "  </thead>\n",
       "  <tbody>\n",
       "    <tr>\n",
       "      <th>0</th>\n",
       "      <td>0.0</td>\n",
       "      <td>50</td>\n",
       "      <td>510</td>\n",
       "      <td>152</td>\n",
       "      <td>0</td>\n",
       "      <td>B1</td>\n",
       "      <td>B1_AB1912920</td>\n",
       "      <td>AB1912920</td>\n",
       "    </tr>\n",
       "    <tr>\n",
       "      <th>1</th>\n",
       "      <td>2370.0</td>\n",
       "      <td>1320</td>\n",
       "      <td>60</td>\n",
       "      <td>1416</td>\n",
       "      <td>2676</td>\n",
       "      <td>B1</td>\n",
       "      <td>B1_AB1350415</td>\n",
       "      <td>AB1350415</td>\n",
       "    </tr>\n",
       "    <tr>\n",
       "      <th>2</th>\n",
       "      <td>0.0</td>\n",
       "      <td>85</td>\n",
       "      <td>0</td>\n",
       "      <td>0</td>\n",
       "      <td>144</td>\n",
       "      <td>B1</td>\n",
       "      <td>B1_AB0129322</td>\n",
       "      <td>AB0129322</td>\n",
       "    </tr>\n",
       "    <tr>\n",
       "      <th>3</th>\n",
       "      <td>30.0</td>\n",
       "      <td>570</td>\n",
       "      <td>0</td>\n",
       "      <td>128</td>\n",
       "      <td>3900</td>\n",
       "      <td>B1</td>\n",
       "      <td>B1_AB0462902</td>\n",
       "      <td>AB0462902</td>\n",
       "    </tr>\n",
       "    <tr>\n",
       "      <th>4</th>\n",
       "      <td>0.0</td>\n",
       "      <td>40</td>\n",
       "      <td>1080</td>\n",
       "      <td>0</td>\n",
       "      <td>0</td>\n",
       "      <td>B2</td>\n",
       "      <td>B2_AB3185026</td>\n",
       "      <td>AB3185026</td>\n",
       "    </tr>\n",
       "  </tbody>\n",
       "</table>\n",
       "</div>"
      ],
      "text/plain": [
       "   CroMax.RX  GlycoMax.RX  AllergyMax.RX  FevMax.RX  ColdMax.RX bucket  \\\n",
       "0        0.0           50            510        152           0     B1   \n",
       "1     2370.0         1320             60       1416        2676     B1   \n",
       "2        0.0           85              0          0         144     B1   \n",
       "3       30.0          570              0        128        3900     B1   \n",
       "4        0.0           40           1080          0           0     B2   \n",
       "\n",
       "  new_physician  physician  \n",
       "0  B1_AB1912920  AB1912920  \n",
       "1  B1_AB1350415  AB1350415  \n",
       "2  B1_AB0129322  AB0129322  \n",
       "3  B1_AB0462902  AB0462902  \n",
       "4  B2_AB3185026  AB3185026  "
      ]
     },
     "execution_count": 267,
     "metadata": {},
     "output_type": "execute_result"
    }
   ],
   "source": [
    "df.head()"
   ]
  },
  {
   "cell_type": "code",
   "execution_count": null,
   "metadata": {},
   "outputs": [],
   "source": []
  }
 ],
 "metadata": {
  "kernelspec": {
   "display_name": "Python 3",
   "language": "python",
   "name": "python3"
  },
  "language_info": {
   "codemirror_mode": {
    "name": "ipython",
    "version": 3
   },
   "file_extension": ".py",
   "mimetype": "text/x-python",
   "name": "python",
   "nbconvert_exporter": "python",
   "pygments_lexer": "ipython3",
   "version": "3.7.0"
  }
 },
 "nbformat": 4,
 "nbformat_minor": 2
}
